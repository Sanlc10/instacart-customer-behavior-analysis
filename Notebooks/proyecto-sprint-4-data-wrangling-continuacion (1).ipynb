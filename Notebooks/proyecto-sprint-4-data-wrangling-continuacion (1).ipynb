{
 "cells": [
  {
   "cell_type": "markdown",
   "id": "3Xg_RQfnafXz",
   "metadata": {
    "id": "3Xg_RQfnafXz"
   },
   "source": [
    "# ¡Llena ese carrito!"
   ]
  },
  {
   "cell_type": "markdown",
   "id": "mhIvmmkW414q",
   "metadata": {
    "id": "mhIvmmkW414q"
   },
   "source": [
    "# Introducción\n",
    "\n",
    "Instacart es una plataforma de entregas de comestibles donde la clientela puede registrar un pedido y hacer que se lo entreguen, similar a Uber Eats y Door Dash.\n",
    "El conjunto de datos que te hemos proporcionado tiene modificaciones del original. Redujimos el tamaño del conjunto para que tus cálculos se hicieran más rápido e introdujimos valores ausentes y duplicados. Tuvimos cuidado de conservar las distribuciones de los datos originales cuando hicimos los cambios.\n",
    "\n",
    "Debes completar tres pasos. Para cada uno de ellos, escribe una breve introducción que refleje con claridad cómo pretendes resolver cada paso, y escribe párrafos explicatorios que justifiquen tus decisiones al tiempo que avanzas en tu solución.  También escribe una conclusión que resuma tus hallazgos y elecciones.\n"
   ]
  },
  {
   "cell_type": "markdown",
   "id": "3MbyzpOQZ5Or",
   "metadata": {
    "id": "3MbyzpOQZ5Or"
   },
   "source": [
    "## Diccionario de datos\n",
    "\n",
    "Hay cinco tablas en el conjunto de datos, y tendrás que usarlas todas para hacer el preprocesamiento de datos y el análisis exploratorio de datos. A continuación se muestra un diccionario de datos que enumera las columnas de cada tabla y describe los datos que contienen.\n",
    "\n",
    "- `instacart_orders.csv`: cada fila corresponde a un pedido en la aplicación Instacart.\n",
    "    - `'order_id'`: número de ID que identifica de manera única cada pedido.\n",
    "    - `'user_id'`: número de ID que identifica de manera única la cuenta de cada cliente.\n",
    "    - `'order_number'`: el número de veces que este cliente ha hecho un pedido.\n",
    "    - `'order_dow'`: día de la semana en que se hizo el pedido (0 si es domingo).\n",
    "    - `'order_hour_of_day'`: hora del día en que se hizo el pedido.\n",
    "    - `'days_since_prior_order'`: número de días transcurridos desde que este cliente hizo su pedido anterior.\n",
    "- `products.csv`: cada fila corresponde a un producto único que pueden comprar los clientes.\n",
    "    - `'product_id'`: número ID que identifica de manera única cada producto.\n",
    "    - `'product_name'`: nombre del producto.\n",
    "    - `'aisle_id'`: número ID que identifica de manera única cada categoría de pasillo de víveres.\n",
    "    - `'department_id'`: número ID que identifica de manera única cada departamento de víveres.\n",
    "- `order_products.csv`: cada fila corresponde a un artículo pedido en un pedido.\n",
    "    - `'order_id'`: número de ID que identifica de manera única cada pedido.\n",
    "    - `'product_id'`: número ID que identifica de manera única cada producto.\n",
    "    - `'add_to_cart_order'`: el orden secuencial en el que se añadió cada artículo en el carrito.\n",
    "    - `'reordered'`: 0 si el cliente nunca ha pedido este producto antes, 1 si lo ha pedido.\n",
    "- `aisles.csv`\n",
    "    - `'aisle_id'`: número ID que identifica de manera única cada categoría de pasillo de víveres.\n",
    "    - `'aisle'`: nombre del pasillo.\n",
    "- `departments.csv`\n",
    "    - `'department_id'`: número ID que identifica de manera única cada departamento de víveres.\n",
    "    - `'department'`: nombre del departamento."
   ]
  },
  {
   "cell_type": "markdown",
   "id": "n3Ha_cNSZ8lK",
   "metadata": {
    "id": "n3Ha_cNSZ8lK"
   },
   "source": [
    "# Paso 1. Descripción de los datos\n",
    "\n",
    "Lee los archivos de datos (`/datasets/instacart_orders.csv`, `/datasets/products.csv`, `/datasets/aisles.csv`, `/datasets/departments.csv` y `/datasets/order_products.csv`) con `pd.read_csv()` usando los parámetros adecuados para leer los datos correctamente. Verifica la información para cada DataFrame creado.\n"
   ]
  },
  {
   "cell_type": "markdown",
   "id": "OmlQPLlyaAfR",
   "metadata": {
    "id": "OmlQPLlyaAfR"
   },
   "source": [
    "## Plan de solución\n",
    "\n",
    "Escribe aquí tu plan de solución para el Paso 1. Descripción de los datos."
   ]
  },
  {
   "cell_type": "code",
   "execution_count": 1,
   "id": "fbf1adab",
   "metadata": {
    "execution": {
     "iopub.execute_input": "2025-04-17T03:06:39.002576Z",
     "iopub.status.busy": "2025-04-17T03:06:39.002045Z",
     "iopub.status.idle": "2025-04-17T03:06:39.008369Z",
     "shell.execute_reply": "2025-04-17T03:06:39.007403Z",
     "shell.execute_reply.started": "2025-04-17T03:06:39.002545Z"
    },
    "id": "fbf1adab",
    "trusted": true
   },
   "outputs": [],
   "source": [
    "# importar librerías\n",
    "import pandas as pd\n",
    "from matplotlib import pyplot as plt"
   ]
  },
  {
   "cell_type": "code",
   "execution_count": 2,
   "id": "ad36396d",
   "metadata": {
    "execution": {
     "iopub.execute_input": "2025-04-17T03:06:39.009483Z",
     "iopub.status.busy": "2025-04-17T03:06:39.009184Z",
     "iopub.status.idle": "2025-04-17T03:06:42.720533Z",
     "shell.execute_reply": "2025-04-17T03:06:42.718751Z",
     "shell.execute_reply.started": "2025-04-17T03:06:39.009455Z"
    },
    "id": "ad36396d",
    "trusted": true
   },
   "outputs": [],
   "source": [
    "# leer conjuntos de datos en los DataFrames\n",
    "orders = pd.read_csv('../Data/instacart_orders.csv', sep = ';')\n",
    "products = pd.read_csv('../Data/products.csv', sep = ';')\n",
    "order_products = pd.read_csv('../Data/order_products.csv', sep = ';')\n",
    "aisles = pd.read_csv('../Data/aisles.csv', sep = ';')\n",
    "departments = pd.read_csv('../Data/departments.csv', sep = ';')"
   ]
  },
  {
   "cell_type": "code",
   "execution_count": 3,
   "id": "ad6a1efa",
   "metadata": {
    "execution": {
     "iopub.execute_input": "2025-04-17T03:06:42.721829Z",
     "iopub.status.busy": "2025-04-17T03:06:42.721517Z",
     "iopub.status.idle": "2025-04-17T03:06:42.771193Z",
     "shell.execute_reply": "2025-04-17T03:06:42.769557Z",
     "shell.execute_reply.started": "2025-04-17T03:06:42.721805Z"
    },
    "id": "ad6a1efa",
    "trusted": true
   },
   "outputs": [
    {
     "name": "stdout",
     "output_type": "stream",
     "text": [
      "<class 'pandas.core.frame.DataFrame'>\n",
      "RangeIndex: 478967 entries, 0 to 478966\n",
      "Data columns (total 6 columns):\n",
      " #   Column                  Non-Null Count   Dtype  \n",
      "---  ------                  --------------   -----  \n",
      " 0   order_id                478967 non-null  int64  \n",
      " 1   user_id                 478967 non-null  int64  \n",
      " 2   order_number            478967 non-null  int64  \n",
      " 3   order_dow               478967 non-null  int64  \n",
      " 4   order_hour_of_day       478967 non-null  int64  \n",
      " 5   days_since_prior_order  450148 non-null  float64\n",
      "dtypes: float64(1), int64(5)\n",
      "memory usage: 21.9 MB\n"
     ]
    }
   ],
   "source": [
    "# mostrar información del DataFrame\n",
    "orders.info()"
   ]
  },
  {
   "cell_type": "code",
   "execution_count": 4,
   "id": "5130e05e",
   "metadata": {
    "execution": {
     "iopub.execute_input": "2025-04-17T03:06:42.772578Z",
     "iopub.status.busy": "2025-04-17T03:06:42.772302Z",
     "iopub.status.idle": "2025-04-17T03:06:42.789434Z",
     "shell.execute_reply": "2025-04-17T03:06:42.788139Z",
     "shell.execute_reply.started": "2025-04-17T03:06:42.772554Z"
    },
    "id": "5130e05e",
    "trusted": true
   },
   "outputs": [
    {
     "name": "stdout",
     "output_type": "stream",
     "text": [
      "<class 'pandas.core.frame.DataFrame'>\n",
      "RangeIndex: 49694 entries, 0 to 49693\n",
      "Data columns (total 4 columns):\n",
      " #   Column         Non-Null Count  Dtype \n",
      "---  ------         --------------  ----- \n",
      " 0   product_id     49694 non-null  int64 \n",
      " 1   product_name   48436 non-null  object\n",
      " 2   aisle_id       49694 non-null  int64 \n",
      " 3   department_id  49694 non-null  int64 \n",
      "dtypes: int64(3), object(1)\n",
      "memory usage: 1.5+ MB\n"
     ]
    }
   ],
   "source": [
    "# mostrar información del DataFrame\n",
    "products.info()"
   ]
  },
  {
   "cell_type": "code",
   "execution_count": 5,
   "id": "d8370c05",
   "metadata": {
    "execution": {
     "iopub.execute_input": "2025-04-17T03:06:42.791223Z",
     "iopub.status.busy": "2025-04-17T03:06:42.790843Z",
     "iopub.status.idle": "2025-04-17T03:06:42.884088Z",
     "shell.execute_reply": "2025-04-17T03:06:42.882855Z",
     "shell.execute_reply.started": "2025-04-17T03:06:42.791190Z"
    },
    "id": "d8370c05",
    "trusted": true
   },
   "outputs": [
    {
     "name": "stdout",
     "output_type": "stream",
     "text": [
      "<class 'pandas.core.frame.DataFrame'>\n",
      "RangeIndex: 4545007 entries, 0 to 4545006\n",
      "Data columns (total 4 columns):\n",
      " #   Column             Non-Null Count    Dtype  \n",
      "---  ------             --------------    -----  \n",
      " 0   order_id           4545007 non-null  int64  \n",
      " 1   product_id         4545007 non-null  int64  \n",
      " 2   add_to_cart_order  4544171 non-null  float64\n",
      " 3   reordered          4545007 non-null  int64  \n",
      "dtypes: float64(1), int64(3)\n",
      "memory usage: 138.7 MB\n"
     ]
    }
   ],
   "source": [
    "# mostrar información del DataFrame\n",
    "order_products.info(show_counts = True)"
   ]
  },
  {
   "cell_type": "code",
   "execution_count": 6,
   "id": "59e2090f",
   "metadata": {
    "execution": {
     "iopub.execute_input": "2025-04-17T03:06:42.887603Z",
     "iopub.status.busy": "2025-04-17T03:06:42.887288Z",
     "iopub.status.idle": "2025-04-17T03:06:42.899848Z",
     "shell.execute_reply": "2025-04-17T03:06:42.898758Z",
     "shell.execute_reply.started": "2025-04-17T03:06:42.887578Z"
    },
    "id": "59e2090f",
    "trusted": true
   },
   "outputs": [
    {
     "name": "stdout",
     "output_type": "stream",
     "text": [
      "<class 'pandas.core.frame.DataFrame'>\n",
      "RangeIndex: 134 entries, 0 to 133\n",
      "Data columns (total 2 columns):\n",
      " #   Column    Non-Null Count  Dtype \n",
      "---  ------    --------------  ----- \n",
      " 0   aisle_id  134 non-null    int64 \n",
      " 1   aisle     134 non-null    object\n",
      "dtypes: int64(1), object(1)\n",
      "memory usage: 2.2+ KB\n"
     ]
    }
   ],
   "source": [
    "# mostrar información del DataFrame\n",
    "aisles.info()"
   ]
  },
  {
   "cell_type": "code",
   "execution_count": 7,
   "id": "6fc81694",
   "metadata": {
    "execution": {
     "iopub.execute_input": "2025-04-17T03:06:42.901293Z",
     "iopub.status.busy": "2025-04-17T03:06:42.900953Z",
     "iopub.status.idle": "2025-04-17T03:06:42.930739Z",
     "shell.execute_reply": "2025-04-17T03:06:42.929745Z",
     "shell.execute_reply.started": "2025-04-17T03:06:42.901262Z"
    },
    "id": "6fc81694",
    "trusted": true
   },
   "outputs": [
    {
     "name": "stdout",
     "output_type": "stream",
     "text": [
      "<class 'pandas.core.frame.DataFrame'>\n",
      "RangeIndex: 21 entries, 0 to 20\n",
      "Data columns (total 2 columns):\n",
      " #   Column         Non-Null Count  Dtype \n",
      "---  ------         --------------  ----- \n",
      " 0   department_id  21 non-null     int64 \n",
      " 1   department     21 non-null     object\n",
      "dtypes: int64(1), object(1)\n",
      "memory usage: 468.0+ bytes\n"
     ]
    }
   ],
   "source": [
    "# mostrar información del DataFrame\n",
    "departments.info()"
   ]
  },
  {
   "cell_type": "markdown",
   "id": "t75BD19oaR5f",
   "metadata": {
    "id": "t75BD19oaR5f"
   },
   "source": [
    "## Conclusiones\n",
    "\n",
    "Escribe aquí tus conclusiones intermedias sobre el Paso 1. Descripción de los datos.\n",
    "\n",
    "En cuanto a la calidad de los datos, en general considero que están en un buen estado, solo los primeros 3 dataframes tienen valores ausentes en una columna, los tipos de datos de cada columna en los DataFrames es el correcto. A simple vista los datos se ven bien, faltaría analizar duplicados y tratar esos valores ausentes.\n",
    "\n",
    "Hablando más hacerca de algunas observaciones y características, me percaté de que ninguno de los datasets contiene información relacionada a precios o ventas, es decir toda la información corresponde a conductas y comportamientos de los clientes, así como de características de los productos que **InstaCart** comercializa.\n"
   ]
  },
  {
   "cell_type": "markdown",
   "id": "8RJHqxVmaVsF",
   "metadata": {
    "id": "8RJHqxVmaVsF"
   },
   "source": [
    "# Paso 2. Preprocesamiento de los datos\n",
    "\n",
    "Preprocesa los datos de la siguiente manera:\n",
    "\n",
    "- Verifica y corrige los tipos de datos (por ejemplo, asegúrate de que las columnas de ID sean números enteros).\n",
    "- Identifica y completa los valores ausentes.\n",
    "- Identifica y elimina los valores duplicados.\n",
    "\n",
    "Asegúrate de explicar qué tipos de valores ausentes y duplicados encontraste, cómo los completaste o eliminaste y por qué usaste esos métodos. ¿Por qué crees que estos valores ausentes y duplicados pueden haber estado presentes en el conjunto de datos?"
   ]
  },
  {
   "cell_type": "markdown",
   "id": "p6poABZQaZYb",
   "metadata": {
    "id": "p6poABZQaZYb"
   },
   "source": [
    "## Plan de solución\n",
    "\n",
    "Escribe aquí tu plan para el Paso 2. Preprocesamiento de los datos.\n",
    "\n",
    "Primero vamos a procesar valores duplicados y a analizarlos, después valores ausentes, debido a que los tipos de datos son correctos no los modificaré"
   ]
  },
  {
   "cell_type": "markdown",
   "id": "07357848-dc64-4156-9cc3-01ff4365226d",
   "metadata": {
    "id": "07357848-dc64-4156-9cc3-01ff4365226d"
   },
   "source": [
    "## Encuentra y elimina los valores duplicados (y describe cómo tomaste tus decisiones)."
   ]
  },
  {
   "cell_type": "markdown",
   "id": "f179f0a9",
   "metadata": {
    "id": "f179f0a9"
   },
   "source": [
    "### `orders` data frame"
   ]
  },
  {
   "cell_type": "code",
   "execution_count": 8,
   "id": "b99297a5-405a-463d-8535-9adc3da4ad74",
   "metadata": {
    "execution": {
     "iopub.execute_input": "2025-04-17T03:06:42.932202Z",
     "iopub.status.busy": "2025-04-17T03:06:42.931863Z",
     "iopub.status.idle": "2025-04-17T03:06:43.240324Z",
     "shell.execute_reply": "2025-04-17T03:06:43.239328Z",
     "shell.execute_reply.started": "2025-04-17T03:06:42.932173Z"
    },
    "id": "b99297a5-405a-463d-8535-9adc3da4ad74",
    "trusted": true
   },
   "outputs": [
    {
     "name": "stdout",
     "output_type": "stream",
     "text": [
      "Número de filas duplicadas:  15\n",
      "\n",
      "        order_id  user_id  order_number  order_dow  order_hour_of_day  \\\n",
      "145574    794638    50898            24          3                  2   \n",
      "223105   2160484   107525            16          3                  2   \n",
      "230807   1918001   188546            14          3                  2   \n",
      "266232   1782114   106752             1          3                  2   \n",
      "273805   1112182   202304            84          3                  2   \n",
      "284038   2845099    31189            11          3                  2   \n",
      "311713   1021560    53767             3          3                  2   \n",
      "321100    408114    68324             4          3                  2   \n",
      "323900   1919531   191501            32          3                  2   \n",
      "345917   2232988    82565             1          3                  2   \n",
      "371905    391768    57671            19          3                  2   \n",
      "394347    467134    63189            21          3                  2   \n",
      "411408   1286742   183220            48          3                  2   \n",
      "415163   2282673    86751            49          3                  2   \n",
      "441599   2125197    14050            48          3                  2   \n",
      "\n",
      "        days_since_prior_order  \n",
      "145574                     2.0  \n",
      "223105                    30.0  \n",
      "230807                    16.0  \n",
      "266232                     NaN  \n",
      "273805                     6.0  \n",
      "284038                     7.0  \n",
      "311713                     9.0  \n",
      "321100                    18.0  \n",
      "323900                     7.0  \n",
      "345917                     NaN  \n",
      "371905                    10.0  \n",
      "394347                     2.0  \n",
      "411408                     4.0  \n",
      "415163                     2.0  \n",
      "441599                     3.0  \n"
     ]
    }
   ],
   "source": [
    "# Revisa si hay pedidos duplicados\n",
    "print('Número de filas duplicadas: ', orders.duplicated().sum())\n",
    "print()\n",
    "print(orders[orders.duplicated()])"
   ]
  },
  {
   "cell_type": "markdown",
   "id": "PEkwUX_gvt5A",
   "metadata": {
    "id": "PEkwUX_gvt5A"
   },
   "source": [
    "¿Tienes líneas duplicadas? Si sí, ¿qué tienen en común?"
   ]
  },
  {
   "cell_type": "code",
   "execution_count": 9,
   "id": "0d44de5d",
   "metadata": {
    "execution": {
     "iopub.execute_input": "2025-04-17T03:06:43.241927Z",
     "iopub.status.busy": "2025-04-17T03:06:43.241480Z",
     "iopub.status.idle": "2025-04-17T03:06:43.258867Z",
     "shell.execute_reply": "2025-04-17T03:06:43.257331Z",
     "shell.execute_reply.started": "2025-04-17T03:06:43.241896Z"
    },
    "id": "0d44de5d",
    "trusted": true
   },
   "outputs": [],
   "source": [
    "# Basándote en tus hallazgos,\n",
    "# Verifica todos los pedidos que se hicieron el miércoles a las 2:00 a.m.\n",
    "wed_at_2 = orders.query('order_dow == 3 and order_hour_of_day == 2')"
   ]
  },
  {
   "cell_type": "code",
   "execution_count": 10,
   "id": "257468b2-8f15-40c9-b596-f873767f7180",
   "metadata": {
    "execution": {
     "iopub.execute_input": "2025-04-17T03:06:43.260809Z",
     "iopub.status.busy": "2025-04-17T03:06:43.260111Z",
     "iopub.status.idle": "2025-04-17T03:06:43.425016Z",
     "shell.execute_reply": "2025-04-17T03:06:43.424034Z",
     "shell.execute_reply.started": "2025-04-17T03:06:43.260764Z"
    },
    "trusted": true
   },
   "outputs": [
    {
     "data": {
      "text/plain": [
       "12.396694214876034"
      ]
     },
     "execution_count": 10,
     "metadata": {},
     "output_type": "execute_result"
    }
   ],
   "source": [
    "#Calculamos el porcentaje de valores duplicados de las ordenes totales del miércoles a las 2 de la mañana.\n",
    "((orders.duplicated().sum())/len(wed_at_2))*100"
   ]
  },
  {
   "cell_type": "markdown",
   "id": "vu2OWyoqwOx5",
   "metadata": {
    "id": "vu2OWyoqwOx5"
   },
   "source": [
    "¿Qué sugiere este resultado?\n",
    "\n",
    "Todos las filas duplicadas de este DataFrame se generaron el miércoles a las 2 de la mañana, de el total de pedidos del miércoles a las 2 de la mañana el 12.39% son duplicados."
   ]
  },
  {
   "cell_type": "code",
   "execution_count": 11,
   "id": "480563c7",
   "metadata": {
    "execution": {
     "iopub.execute_input": "2025-04-17T03:06:43.426276Z",
     "iopub.status.busy": "2025-04-17T03:06:43.426009Z",
     "iopub.status.idle": "2025-04-17T03:06:43.587244Z",
     "shell.execute_reply": "2025-04-17T03:06:43.586276Z",
     "shell.execute_reply.started": "2025-04-17T03:06:43.426255Z"
    },
    "id": "480563c7",
    "trusted": true
   },
   "outputs": [],
   "source": [
    "# Elimina los pedidos duplicados\n",
    "orders = orders.drop_duplicates().reset_index(drop = True)"
   ]
  },
  {
   "cell_type": "code",
   "execution_count": 12,
   "id": "0b2396a2",
   "metadata": {
    "execution": {
     "iopub.execute_input": "2025-04-17T03:06:43.588988Z",
     "iopub.status.busy": "2025-04-17T03:06:43.588604Z",
     "iopub.status.idle": "2025-04-17T03:06:43.737278Z",
     "shell.execute_reply": "2025-04-17T03:06:43.736060Z",
     "shell.execute_reply.started": "2025-04-17T03:06:43.588955Z"
    },
    "id": "0b2396a2",
    "trusted": true
   },
   "outputs": [
    {
     "data": {
      "text/plain": [
       "0"
      ]
     },
     "execution_count": 12,
     "metadata": {},
     "output_type": "execute_result"
    }
   ],
   "source": [
    "# Vuelve a verificar si hay filas duplicadas\n",
    "orders.duplicated().sum()"
   ]
  },
  {
   "cell_type": "code",
   "execution_count": 13,
   "id": "f6113ef1",
   "metadata": {
    "execution": {
     "iopub.execute_input": "2025-04-17T03:06:43.738527Z",
     "iopub.status.busy": "2025-04-17T03:06:43.738212Z",
     "iopub.status.idle": "2025-04-17T03:06:43.784198Z",
     "shell.execute_reply": "2025-04-17T03:06:43.783344Z",
     "shell.execute_reply.started": "2025-04-17T03:06:43.738501Z"
    },
    "id": "f6113ef1",
    "trusted": true
   },
   "outputs": [
    {
     "data": {
      "text/plain": [
       "0"
      ]
     },
     "execution_count": 13,
     "metadata": {},
     "output_type": "execute_result"
    }
   ],
   "source": [
    "# Vuelve a verificar únicamente si hay IDs duplicados de pedidos\n",
    "orders['order_id'].duplicated().sum()"
   ]
  },
  {
   "cell_type": "markdown",
   "id": "5e8905ae",
   "metadata": {
    "id": "5e8905ae"
   },
   "source": [
    "Describe brevemente tus hallazgos y lo que hiciste con ellos\n",
    "\n",
    "Encontramos que los valores duplicados estaban todos relacionados con ordenes del miércoles a las 2 de la mañana, por alguna razón. Eliminamos estos valores duplicados y verificamos el resultado."
   ]
  },
  {
   "cell_type": "markdown",
   "id": "45e6bc46",
   "metadata": {
    "id": "45e6bc46"
   },
   "source": [
    "### `products` data frame"
   ]
  },
  {
   "cell_type": "code",
   "execution_count": 14,
   "id": "5f526b5b-8175-46fa-a0fd-441767d50e64",
   "metadata": {
    "execution": {
     "iopub.execute_input": "2025-04-17T03:06:43.785576Z",
     "iopub.status.busy": "2025-04-17T03:06:43.785331Z",
     "iopub.status.idle": "2025-04-17T03:06:43.815735Z",
     "shell.execute_reply": "2025-04-17T03:06:43.814535Z",
     "shell.execute_reply.started": "2025-04-17T03:06:43.785556Z"
    },
    "id": "5f526b5b-8175-46fa-a0fd-441767d50e64",
    "trusted": true
   },
   "outputs": [
    {
     "name": "stdout",
     "output_type": "stream",
     "text": [
      "Número de filas duplicadas:  0\n"
     ]
    }
   ],
   "source": [
    "# Verifica si hay filas totalmente duplicadas\n",
    "print('Número de filas duplicadas: ', products.duplicated().sum())"
   ]
  },
  {
   "cell_type": "code",
   "execution_count": 15,
   "id": "88daa4f4",
   "metadata": {
    "execution": {
     "iopub.execute_input": "2025-04-17T03:06:43.816979Z",
     "iopub.status.busy": "2025-04-17T03:06:43.816701Z",
     "iopub.status.idle": "2025-04-17T03:06:43.824855Z",
     "shell.execute_reply": "2025-04-17T03:06:43.823756Z",
     "shell.execute_reply.started": "2025-04-17T03:06:43.816952Z"
    },
    "id": "88daa4f4",
    "trusted": true
   },
   "outputs": [
    {
     "data": {
      "text/plain": [
       "49673"
      ]
     },
     "execution_count": 15,
     "metadata": {},
     "output_type": "execute_result"
    }
   ],
   "source": [
    "# Revisa únicamente si hay ID de departamentos duplicados\n",
    "products['department_id'].duplicated().sum()\n",
    "#Si hay valores duplicados en esta columna, sin embargo esto es debido a que varios productos pertenecen al mismo departament\n",
    "#por tanto no implica un problema."
   ]
  },
  {
   "cell_type": "code",
   "execution_count": 16,
   "id": "c773f0bf",
   "metadata": {
    "execution": {
     "iopub.execute_input": "2025-04-17T03:06:43.825913Z",
     "iopub.status.busy": "2025-04-17T03:06:43.825648Z",
     "iopub.status.idle": "2025-04-17T03:06:43.881836Z",
     "shell.execute_reply": "2025-04-17T03:06:43.880755Z",
     "shell.execute_reply.started": "2025-04-17T03:06:43.825894Z"
    },
    "id": "c773f0bf",
    "trusted": true
   },
   "outputs": [
    {
     "data": {
      "text/plain": [
       "1361"
      ]
     },
     "execution_count": 16,
     "metadata": {},
     "output_type": "execute_result"
    }
   ],
   "source": [
    "# Revisa únicamente si hay nombres duplicados de productos (convierte los nombres a letras mayúsculas para compararlos mejor)\n",
    "products['product_name'] = products['product_name'].str.upper()\n",
    "products['product_name'].duplicated().sum()"
   ]
  },
  {
   "cell_type": "code",
   "execution_count": 17,
   "id": "01efd02e",
   "metadata": {
    "execution": {
     "iopub.execute_input": "2025-04-17T03:06:43.883354Z",
     "iopub.status.busy": "2025-04-17T03:06:43.883034Z",
     "iopub.status.idle": "2025-04-17T03:06:43.903964Z",
     "shell.execute_reply": "2025-04-17T03:06:43.902995Z",
     "shell.execute_reply.started": "2025-04-17T03:06:43.883326Z"
    },
    "id": "01efd02e",
    "trusted": true
   },
   "outputs": [
    {
     "data": {
      "text/plain": [
       "104"
      ]
     },
     "execution_count": 17,
     "metadata": {},
     "output_type": "execute_result"
    }
   ],
   "source": [
    "# Revisa si hay nombres duplicados de productos no faltantes\n",
    "notna_products = products[products['product_name'].notna()]\n",
    "notna_products['product_name'].duplicated().sum()"
   ]
  },
  {
   "cell_type": "code",
   "execution_count": 18,
   "id": "42c37031-88d5-4224-8349-c70460fadbfc",
   "metadata": {
    "execution": {
     "iopub.execute_input": "2025-04-17T03:06:43.905691Z",
     "iopub.status.busy": "2025-04-17T03:06:43.905180Z",
     "iopub.status.idle": "2025-04-17T03:06:43.921915Z",
     "shell.execute_reply": "2025-04-17T03:06:43.920962Z",
     "shell.execute_reply.started": "2025-04-17T03:06:43.905640Z"
    },
    "trusted": true
   },
   "outputs": [
    {
     "name": "stdout",
     "output_type": "stream",
     "text": [
      "[21]\n",
      "[100]\n"
     ]
    }
   ],
   "source": [
    "na_products = products[products['product_name'].isna()]\n",
    "print(na_products['department_id'].unique())\n",
    "print(na_products['aisle_id'].unique())"
   ]
  },
  {
   "cell_type": "markdown",
   "id": "9da8d293",
   "metadata": {
    "id": "9da8d293"
   },
   "source": [
    "Describe brevemente tus hallazgos y lo que hiciste con ellos.\n",
    "\n",
    "El DataFrame como tal no tiene filas enteras duplicadas, sin embargo la columna product_name tiene 1361 valores duplicados de los cuáles 104 son verdaderos duplicados, mientras que los demás son valores ausentes y por eso pandas los marca como duplicados. Aún no he realizado nada con esto debido a que más adelante trataremos los valores ausentes.\n",
    "\n",
    "Algo que considero importante mencionar es que todos los valores ausentes en la columna product_name tienen el mismo aisle_id y el mismo department_id, 100 y 21 respectivamente. Creo que esto puede ser un indicativo de que hay un problema en el registro de los nombres los productos de esa zona.\n",
    "\n",
    "Otro punto importante es que al ser 104 los valores duplicados de la columna product_name y estos no son NaN, puede deberse a que el producto viene en distintas presentaciones, esto explicaría que los valores de las demás columnas no estén duplicados."
   ]
  },
  {
   "cell_type": "markdown",
   "id": "60f30db1",
   "metadata": {
    "id": "60f30db1"
   },
   "source": [
    "### `departments` data frame"
   ]
  },
  {
   "cell_type": "code",
   "execution_count": 19,
   "id": "fb410ad4-0fbf-4b80-bb09-23fdea79afe3",
   "metadata": {
    "execution": {
     "iopub.execute_input": "2025-04-17T03:06:43.923159Z",
     "iopub.status.busy": "2025-04-17T03:06:43.922859Z",
     "iopub.status.idle": "2025-04-17T03:06:43.944747Z",
     "shell.execute_reply": "2025-04-17T03:06:43.943874Z",
     "shell.execute_reply.started": "2025-04-17T03:06:43.923134Z"
    },
    "id": "fb410ad4-0fbf-4b80-bb09-23fdea79afe3",
    "trusted": true
   },
   "outputs": [
    {
     "data": {
      "text/plain": [
       "0"
      ]
     },
     "execution_count": 19,
     "metadata": {},
     "output_type": "execute_result"
    }
   ],
   "source": [
    "# Revisa si hay filas totalmente duplicadas\n",
    "departments.duplicated().sum()"
   ]
  },
  {
   "cell_type": "code",
   "execution_count": 20,
   "id": "332b12bb",
   "metadata": {
    "execution": {
     "iopub.execute_input": "2025-04-17T03:06:43.945921Z",
     "iopub.status.busy": "2025-04-17T03:06:43.945579Z",
     "iopub.status.idle": "2025-04-17T03:06:43.967178Z",
     "shell.execute_reply": "2025-04-17T03:06:43.966112Z",
     "shell.execute_reply.started": "2025-04-17T03:06:43.945892Z"
    },
    "id": "332b12bb",
    "trusted": true
   },
   "outputs": [
    {
     "data": {
      "text/plain": [
       "0"
      ]
     },
     "execution_count": 20,
     "metadata": {},
     "output_type": "execute_result"
    }
   ],
   "source": [
    "# Revisa únicamente si hay IDs duplicadas de productos\n",
    "departments['department_id'].duplicated().sum()\n"
   ]
  },
  {
   "cell_type": "markdown",
   "id": "bd30d78e",
   "metadata": {
    "id": "bd30d78e"
   },
   "source": [
    "Describe brevemente tus hallazgos y lo que hiciste con ellos.\n",
    "\n",
    "No hay valores duplicados, ni valores ausentes, este DataFrame esta listo."
   ]
  },
  {
   "cell_type": "markdown",
   "id": "889349c1",
   "metadata": {
    "id": "889349c1"
   },
   "source": [
    "### `aisles` data frame"
   ]
  },
  {
   "cell_type": "code",
   "execution_count": 21,
   "id": "9da89fb9-4679-40f5-ad0d-c34df753a3f8",
   "metadata": {
    "execution": {
     "iopub.execute_input": "2025-04-17T03:06:43.972988Z",
     "iopub.status.busy": "2025-04-17T03:06:43.972596Z",
     "iopub.status.idle": "2025-04-17T03:06:43.990008Z",
     "shell.execute_reply": "2025-04-17T03:06:43.989306Z",
     "shell.execute_reply.started": "2025-04-17T03:06:43.972963Z"
    },
    "id": "9da89fb9-4679-40f5-ad0d-c34df753a3f8",
    "trusted": true
   },
   "outputs": [
    {
     "data": {
      "text/plain": [
       "0"
      ]
     },
     "execution_count": 21,
     "metadata": {},
     "output_type": "execute_result"
    }
   ],
   "source": [
    "# Revisa si hay filas totalmente duplicadas\n",
    "aisles.duplicated().sum()"
   ]
  },
  {
   "cell_type": "code",
   "execution_count": 22,
   "id": "da7c2822",
   "metadata": {
    "execution": {
     "iopub.execute_input": "2025-04-17T03:06:43.991627Z",
     "iopub.status.busy": "2025-04-17T03:06:43.991206Z",
     "iopub.status.idle": "2025-04-17T03:06:44.015417Z",
     "shell.execute_reply": "2025-04-17T03:06:44.014339Z",
     "shell.execute_reply.started": "2025-04-17T03:06:43.991598Z"
    },
    "id": "da7c2822",
    "trusted": true
   },
   "outputs": [
    {
     "data": {
      "text/plain": [
       "0"
      ]
     },
     "execution_count": 22,
     "metadata": {},
     "output_type": "execute_result"
    }
   ],
   "source": [
    "# Revisa únicamente si hay IDs duplicadas de pasillos\n",
    "aisles['aisle_id'].duplicated().sum()"
   ]
  },
  {
   "cell_type": "markdown",
   "id": "ac63826f",
   "metadata": {
    "id": "ac63826f"
   },
   "source": [
    "Describe brevemente tus hallazgos y lo que hiciste con ellos.\n",
    "\n",
    "No hay valores duplicados, ni valores ausentes, este DataFrame esta listo."
   ]
  },
  {
   "cell_type": "markdown",
   "id": "274cd06a",
   "metadata": {
    "id": "274cd06a"
   },
   "source": [
    "### `order_products` data frame"
   ]
  },
  {
   "cell_type": "code",
   "execution_count": 23,
   "id": "52326689-84a8-4b8f-a881-7c68780f62c9",
   "metadata": {
    "execution": {
     "iopub.execute_input": "2025-04-17T03:06:44.016756Z",
     "iopub.status.busy": "2025-04-17T03:06:44.016412Z",
     "iopub.status.idle": "2025-04-17T03:06:45.363736Z",
     "shell.execute_reply": "2025-04-17T03:06:45.362615Z",
     "shell.execute_reply.started": "2025-04-17T03:06:44.016724Z"
    },
    "id": "52326689-84a8-4b8f-a881-7c68780f62c9",
    "trusted": true
   },
   "outputs": [
    {
     "data": {
      "text/plain": [
       "0"
      ]
     },
     "execution_count": 23,
     "metadata": {},
     "output_type": "execute_result"
    }
   ],
   "source": [
    "# Revisa si hay filas totalmente duplicadas\n",
    "order_products.duplicated().sum()\n"
   ]
  },
  {
   "cell_type": "code",
   "execution_count": 24,
   "id": "7b861391",
   "metadata": {
    "execution": {
     "iopub.execute_input": "2025-04-17T03:06:45.365052Z",
     "iopub.status.busy": "2025-04-17T03:06:45.364739Z",
     "iopub.status.idle": "2025-04-17T03:06:45.601929Z",
     "shell.execute_reply": "2025-04-17T03:06:45.601007Z",
     "shell.execute_reply.started": "2025-04-17T03:06:45.365018Z"
    },
    "id": "7b861391",
    "trusted": true
   },
   "outputs": [
    {
     "data": {
      "text/plain": [
       "4094961"
      ]
     },
     "execution_count": 24,
     "metadata": {},
     "output_type": "execute_result"
    }
   ],
   "source": [
    "# Vuelve a verificar si hay cualquier otro duplicado engañoso\n",
    "order_products['order_id'].duplicated().sum()"
   ]
  },
  {
   "cell_type": "code",
   "execution_count": 25,
   "id": "73f6930d-2b64-4bb2-b9af-ae9c3bea3756",
   "metadata": {
    "execution": {
     "iopub.execute_input": "2025-04-17T03:06:45.603413Z",
     "iopub.status.busy": "2025-04-17T03:06:45.603093Z",
     "iopub.status.idle": "2025-04-17T03:06:45.623204Z",
     "shell.execute_reply": "2025-04-17T03:06:45.621996Z",
     "shell.execute_reply.started": "2025-04-17T03:06:45.603386Z"
    },
    "trusted": true
   },
   "outputs": [
    {
     "data": {
      "text/html": [
       "<div>\n",
       "<style scoped>\n",
       "    .dataframe tbody tr th:only-of-type {\n",
       "        vertical-align: middle;\n",
       "    }\n",
       "\n",
       "    .dataframe tbody tr th {\n",
       "        vertical-align: top;\n",
       "    }\n",
       "\n",
       "    .dataframe thead th {\n",
       "        text-align: right;\n",
       "    }\n",
       "</style>\n",
       "<table border=\"1\" class=\"dataframe\">\n",
       "  <thead>\n",
       "    <tr style=\"text-align: right;\">\n",
       "      <th></th>\n",
       "      <th>order_id</th>\n",
       "      <th>product_id</th>\n",
       "      <th>add_to_cart_order</th>\n",
       "      <th>reordered</th>\n",
       "    </tr>\n",
       "  </thead>\n",
       "  <tbody>\n",
       "    <tr>\n",
       "      <th>0</th>\n",
       "      <td>2141543</td>\n",
       "      <td>11440</td>\n",
       "      <td>17.0</td>\n",
       "      <td>0</td>\n",
       "    </tr>\n",
       "    <tr>\n",
       "      <th>1</th>\n",
       "      <td>567889</td>\n",
       "      <td>1560</td>\n",
       "      <td>1.0</td>\n",
       "      <td>1</td>\n",
       "    </tr>\n",
       "    <tr>\n",
       "      <th>2</th>\n",
       "      <td>2261212</td>\n",
       "      <td>26683</td>\n",
       "      <td>1.0</td>\n",
       "      <td>1</td>\n",
       "    </tr>\n",
       "    <tr>\n",
       "      <th>3</th>\n",
       "      <td>491251</td>\n",
       "      <td>8670</td>\n",
       "      <td>35.0</td>\n",
       "      <td>1</td>\n",
       "    </tr>\n",
       "    <tr>\n",
       "      <th>4</th>\n",
       "      <td>2571142</td>\n",
       "      <td>1940</td>\n",
       "      <td>5.0</td>\n",
       "      <td>1</td>\n",
       "    </tr>\n",
       "  </tbody>\n",
       "</table>\n",
       "</div>"
      ],
      "text/plain": [
       "   order_id  product_id  add_to_cart_order  reordered\n",
       "0   2141543       11440               17.0          0\n",
       "1    567889        1560                1.0          1\n",
       "2   2261212       26683                1.0          1\n",
       "3    491251        8670               35.0          1\n",
       "4   2571142        1940                5.0          1"
      ]
     },
     "execution_count": 25,
     "metadata": {},
     "output_type": "execute_result"
    }
   ],
   "source": [
    "order_products.head()"
   ]
  },
  {
   "cell_type": "markdown",
   "id": "0b890492",
   "metadata": {
    "id": "0b890492"
   },
   "source": [
    "Describe brevemente tus hallazgos y lo que hiciste con ellos.\n",
    "\n",
    "El DataFrame no tiene filas enteras duplicadas, sin embargo la columna order_id tiene más de 4 millones de valores duplicados, a simple vista esto podría parecer un error, sin embargo si observamos con más detalle las columnas nos damos cuenta de que cada fila solo representa a un producto ordenado, hubo ordenes de más de un producto y es por esto que hay valores duplicados en la columna order_id."
   ]
  },
  {
   "cell_type": "markdown",
   "id": "1e46de76",
   "metadata": {
    "id": "1e46de76"
   },
   "source": [
    "## Encuentra y elimina los valores ausentes\n",
    "\n",
    "Al trabajar con valores duplicados, pudimos observar que también nos falta investigar valores ausentes:\n",
    "\n",
    "* La columna `'product_name'` de la tabla products.\n",
    "* La columna `'days_since_prior_order'` de la tabla orders.\n",
    "* La columna `'add_to_cart_order'` de la tabla order_productos."
   ]
  },
  {
   "cell_type": "markdown",
   "id": "c0aebd78",
   "metadata": {
    "id": "c0aebd78"
   },
   "source": [
    "### `products` data frame"
   ]
  },
  {
   "cell_type": "code",
   "execution_count": 26,
   "id": "fe4a8b0f",
   "metadata": {
    "execution": {
     "iopub.execute_input": "2025-04-17T03:06:45.624356Z",
     "iopub.status.busy": "2025-04-17T03:06:45.624084Z",
     "iopub.status.idle": "2025-04-17T03:06:45.637979Z",
     "shell.execute_reply": "2025-04-17T03:06:45.637065Z",
     "shell.execute_reply.started": "2025-04-17T03:06:45.624329Z"
    },
    "id": "fe4a8b0f",
    "trusted": true
   },
   "outputs": [
    {
     "data": {
      "text/plain": [
       "product_id          0\n",
       "product_name     1258\n",
       "aisle_id            0\n",
       "department_id       0\n",
       "dtype: int64"
      ]
     },
     "execution_count": 26,
     "metadata": {},
     "output_type": "execute_result"
    }
   ],
   "source": [
    "# Encuentra los valores ausentes en la columna 'product_name'\n",
    "products.isna().sum()"
   ]
  },
  {
   "cell_type": "markdown",
   "id": "-A6x1AbJhjkp",
   "metadata": {
    "id": "-A6x1AbJhjkp"
   },
   "source": [
    "Describe brevemente cuáles son tus hallazgos."
   ]
  },
  {
   "cell_type": "code",
   "execution_count": 27,
   "id": "e96167bc",
   "metadata": {
    "execution": {
     "iopub.execute_input": "2025-04-17T03:06:45.639261Z",
     "iopub.status.busy": "2025-04-17T03:06:45.638960Z",
     "iopub.status.idle": "2025-04-17T03:06:45.660376Z",
     "shell.execute_reply": "2025-04-17T03:06:45.659442Z",
     "shell.execute_reply.started": "2025-04-17T03:06:45.639238Z"
    },
    "id": "e96167bc",
    "trusted": true
   },
   "outputs": [],
   "source": [
    "#  ¿Todos los nombres de productos ausentes están relacionados con el pasillo con ID 100?\n"
   ]
  },
  {
   "cell_type": "markdown",
   "id": "WRpIfXRphpSL",
   "metadata": {
    "id": "WRpIfXRphpSL"
   },
   "source": [
    "Describe brevemente cuáles son tus hallazgos."
   ]
  },
  {
   "cell_type": "code",
   "execution_count": 28,
   "id": "8fd0a541",
   "metadata": {
    "execution": {
     "iopub.execute_input": "2025-04-17T03:06:45.661725Z",
     "iopub.status.busy": "2025-04-17T03:06:45.661387Z",
     "iopub.status.idle": "2025-04-17T03:06:45.679611Z",
     "shell.execute_reply": "2025-04-17T03:06:45.678642Z",
     "shell.execute_reply.started": "2025-04-17T03:06:45.661695Z"
    },
    "id": "8fd0a541",
    "trusted": true
   },
   "outputs": [],
   "source": [
    "# ¿Todos los nombres de productos ausentes están relacionados con el departamento con ID 21?\n"
   ]
  },
  {
   "cell_type": "markdown",
   "id": "qDpdYn1Fht_I",
   "metadata": {
    "id": "qDpdYn1Fht_I"
   },
   "source": [
    "Describe brevemente cuáles son tus hallazgos.\n",
    "\n",
    "Como lo habíamos mencionado y verificado previamente, los valores ausentes están relacionados todos con el aisle número 100 y el departamento 21."
   ]
  },
  {
   "cell_type": "code",
   "execution_count": 29,
   "id": "325c3464",
   "metadata": {
    "execution": {
     "iopub.execute_input": "2025-04-17T03:06:45.681318Z",
     "iopub.status.busy": "2025-04-17T03:06:45.680756Z",
     "iopub.status.idle": "2025-04-17T03:06:45.702113Z",
     "shell.execute_reply": "2025-04-17T03:06:45.701072Z",
     "shell.execute_reply.started": "2025-04-17T03:06:45.681276Z"
    },
    "id": "325c3464",
    "trusted": true
   },
   "outputs": [
    {
     "name": "stdout",
     "output_type": "stream",
     "text": [
      "department_id         21\n",
      "department       missing\n",
      "Name: 20, dtype: object\n",
      "\n",
      "aisle_id        100\n",
      "aisle       missing\n",
      "Name: 99, dtype: object\n"
     ]
    }
   ],
   "source": [
    "# Usa las tablas department y aisle para revisar los datos del pasillo con ID 100 y el departamento con ID 21.\n",
    "print(departments.iloc[20])\n",
    "print()\n",
    "print(aisles.iloc[99])"
   ]
  },
  {
   "cell_type": "code",
   "execution_count": 30,
   "id": "256319aa-0613-47b1-b267-8082ebb487e9",
   "metadata": {
    "execution": {
     "iopub.execute_input": "2025-04-17T03:06:45.703528Z",
     "iopub.status.busy": "2025-04-17T03:06:45.703234Z",
     "iopub.status.idle": "2025-04-17T03:06:45.732397Z",
     "shell.execute_reply": "2025-04-17T03:06:45.731351Z",
     "shell.execute_reply.started": "2025-04-17T03:06:45.703504Z"
    },
    "trusted": true
   },
   "outputs": [
    {
     "data": {
      "text/plain": [
       "array([nan], dtype=object)"
      ]
     },
     "execution_count": 30,
     "metadata": {},
     "output_type": "execute_result"
    }
   ],
   "source": [
    "dep_21 = products.query('department_id == 21 and aisle_id == 100')\n",
    "dep_21['product_name'].unique()"
   ]
  },
  {
   "cell_type": "markdown",
   "id": "nqhSTUPhhvEJ",
   "metadata": {
    "id": "nqhSTUPhhvEJ"
   },
   "source": [
    "Describe brevemente cuáles son tus hallazgos.\n",
    "\n",
    "Es curioso ya que todas las filas que contienen el aisle 100 contienen también el departamento 21, ambos son 'missing' y todas las filas que contienen esto, su valor en la columna product_name es NaN, esto implica que casi no tenemos información sobre estos productos, solo su id de producto."
   ]
  },
  {
   "cell_type": "code",
   "execution_count": 31,
   "id": "6b295120",
   "metadata": {
    "execution": {
     "iopub.execute_input": "2025-04-17T03:06:45.733537Z",
     "iopub.status.busy": "2025-04-17T03:06:45.733263Z",
     "iopub.status.idle": "2025-04-17T03:06:45.762191Z",
     "shell.execute_reply": "2025-04-17T03:06:45.761337Z",
     "shell.execute_reply.started": "2025-04-17T03:06:45.733517Z"
    },
    "id": "6b295120",
    "trusted": true
   },
   "outputs": [
    {
     "name": "stderr",
     "output_type": "stream",
     "text": [
      "C:\\Users\\Santiago\\AppData\\Local\\Temp\\ipykernel_11880\\1835005277.py:2: FutureWarning: A value is trying to be set on a copy of a DataFrame or Series through chained assignment using an inplace method.\n",
      "The behavior will change in pandas 3.0. This inplace method will never work because the intermediate object on which we are setting values always behaves as a copy.\n",
      "\n",
      "For example, when doing 'df[col].method(value, inplace=True)', try using 'df.method({col: value}, inplace=True)' or df[col] = df[col].method(value) instead, to perform the operation inplace on the original object.\n",
      "\n",
      "\n",
      "  products['product_name'].fillna('Unknown', inplace = True)\n"
     ]
    },
    {
     "data": {
      "text/plain": [
       "product_id       0\n",
       "product_name     0\n",
       "aisle_id         0\n",
       "department_id    0\n",
       "dtype: int64"
      ]
     },
     "execution_count": 31,
     "metadata": {},
     "output_type": "execute_result"
    }
   ],
   "source": [
    "# Completa los nombres de productos ausentes con 'Unknown'\n",
    "products['product_name'].fillna('Unknown', inplace = True)\n",
    "products.isna().sum()"
   ]
  },
  {
   "cell_type": "markdown",
   "id": "fc70e5ad",
   "metadata": {
    "id": "fc70e5ad"
   },
   "source": [
    "Describe brevemente tus hallazgos y lo que hiciste con ellos.\n",
    "\n",
    "Rellene los valores ausentes con el nombre Unknown ya que no lo sabemos, de todos los productos del aisle 100 no conocemos el nombre, no podemos eliminar estas filas porque perderíamos estos productos que representan algo, solo que no sabemos qué. Si esto fuera la vida real, preguntaría al encargado o a la tienda para averiguar cuáles son estos productos, pero por ahora no podemos hacer nada más."
   ]
  },
  {
   "cell_type": "markdown",
   "id": "7eb45c86",
   "metadata": {
    "id": "7eb45c86"
   },
   "source": [
    "### `orders` data frame"
   ]
  },
  {
   "cell_type": "code",
   "execution_count": 32,
   "id": "93e41d96",
   "metadata": {
    "execution": {
     "iopub.execute_input": "2025-04-17T03:06:45.763561Z",
     "iopub.status.busy": "2025-04-17T03:06:45.763252Z",
     "iopub.status.idle": "2025-04-17T03:06:45.787435Z",
     "shell.execute_reply": "2025-04-17T03:06:45.786497Z",
     "shell.execute_reply.started": "2025-04-17T03:06:45.763533Z"
    },
    "id": "93e41d96",
    "trusted": true
   },
   "outputs": [
    {
     "data": {
      "text/plain": [
       "order_id                      0\n",
       "user_id                       0\n",
       "order_number                  0\n",
       "order_dow                     0\n",
       "order_hour_of_day             0\n",
       "days_since_prior_order    28817\n",
       "dtype: int64"
      ]
     },
     "execution_count": 32,
     "metadata": {},
     "output_type": "execute_result"
    }
   ],
   "source": [
    "# Encuentra los valores ausentes\n",
    "orders.isna().sum()"
   ]
  },
  {
   "cell_type": "code",
   "execution_count": 33,
   "id": "166e5a86",
   "metadata": {
    "execution": {
     "iopub.execute_input": "2025-04-17T03:06:45.788900Z",
     "iopub.status.busy": "2025-04-17T03:06:45.788532Z",
     "iopub.status.idle": "2025-04-17T03:06:45.801806Z",
     "shell.execute_reply": "2025-04-17T03:06:45.800626Z",
     "shell.execute_reply.started": "2025-04-17T03:06:45.788877Z"
    },
    "id": "166e5a86",
    "trusted": true
   },
   "outputs": [
    {
     "data": {
      "text/plain": [
       "array([1], dtype=int64)"
      ]
     },
     "execution_count": 33,
     "metadata": {},
     "output_type": "execute_result"
    }
   ],
   "source": [
    "# ¿Hay algún valor ausente que no sea el primer pedido del cliente?\n",
    "orders[orders['days_since_prior_order'].isna()]['order_number'].unique()"
   ]
  },
  {
   "cell_type": "code",
   "execution_count": 34,
   "id": "7023d469-ab15-46fd-97c5-6ba4821d72a4",
   "metadata": {
    "execution": {
     "iopub.execute_input": "2025-04-17T03:06:45.803071Z",
     "iopub.status.busy": "2025-04-17T03:06:45.802787Z",
     "iopub.status.idle": "2025-04-17T03:06:45.834022Z",
     "shell.execute_reply": "2025-04-17T03:06:45.832869Z",
     "shell.execute_reply.started": "2025-04-17T03:06:45.803052Z"
    },
    "trusted": true
   },
   "outputs": [
    {
     "data": {
      "text/plain": [
       "order_id                  0\n",
       "user_id                   0\n",
       "order_number              0\n",
       "order_dow                 0\n",
       "order_hour_of_day         0\n",
       "days_since_prior_order    0\n",
       "dtype: int64"
      ]
     },
     "execution_count": 34,
     "metadata": {},
     "output_type": "execute_result"
    }
   ],
   "source": [
    "#A continuación vamos a rellenar los valores ausentes con 0 ya que no existió una orden previa.\n",
    "orders.fillna(0, inplace = True)\n",
    "#Verificamos el número de valores ausentes.\n",
    "orders.isna().sum()"
   ]
  },
  {
   "cell_type": "markdown",
   "id": "4e23d089",
   "metadata": {
    "id": "4e23d089"
   },
   "source": [
    "Describe brevemente tus hallazgos y lo que hiciste con ellos.\n",
    "\n",
    "Todos los valores ausentes en la columna \"days_since_prior_order\" corresponden a la primera orden del cliente, lo que hace sentido que el valor sea nulo ya que no hubo una orden anterior a esa, dado esto rellené los valores nulos con 0"
   ]
  },
  {
   "cell_type": "markdown",
   "id": "69dc9ca4",
   "metadata": {
    "id": "69dc9ca4"
   },
   "source": [
    "### `order_products` data frame"
   ]
  },
  {
   "cell_type": "code",
   "execution_count": 35,
   "id": "b8240253",
   "metadata": {
    "execution": {
     "iopub.execute_input": "2025-04-17T03:06:45.835024Z",
     "iopub.status.busy": "2025-04-17T03:06:45.834765Z",
     "iopub.status.idle": "2025-04-17T03:06:45.879986Z",
     "shell.execute_reply": "2025-04-17T03:06:45.879191Z",
     "shell.execute_reply.started": "2025-04-17T03:06:45.835004Z"
    },
    "id": "b8240253",
    "trusted": true
   },
   "outputs": [
    {
     "data": {
      "text/plain": [
       "order_id               0\n",
       "product_id             0\n",
       "add_to_cart_order    836\n",
       "reordered              0\n",
       "dtype: int64"
      ]
     },
     "execution_count": 35,
     "metadata": {},
     "output_type": "execute_result"
    }
   ],
   "source": [
    "# Encuentra los valores ausentes\n",
    "order_products.isna().sum()"
   ]
  },
  {
   "cell_type": "code",
   "execution_count": 36,
   "id": "9a78e5ee",
   "metadata": {
    "execution": {
     "iopub.execute_input": "2025-04-17T03:06:45.881305Z",
     "iopub.status.busy": "2025-04-17T03:06:45.880971Z",
     "iopub.status.idle": "2025-04-17T03:06:45.903921Z",
     "shell.execute_reply": "2025-04-17T03:06:45.903001Z",
     "shell.execute_reply.started": "2025-04-17T03:06:45.881271Z"
    },
    "id": "9a78e5ee",
    "trusted": true
   },
   "outputs": [
    {
     "name": "stdout",
     "output_type": "stream",
     "text": [
      "1.0\n",
      "64.0\n"
     ]
    }
   ],
   "source": [
    "# ¿Cuáles son los valores mínimos y máximos en esta columna?\n",
    "print(order_products['add_to_cart_order'].min())\n",
    "print(order_products['add_to_cart_order'].max())"
   ]
  },
  {
   "cell_type": "markdown",
   "id": "-Z2Ja215jW78",
   "metadata": {
    "id": "-Z2Ja215jW78"
   },
   "source": [
    "Describe brevemente cuáles son tus hallazgos.\n",
    "\n",
    "Los valores mínimo y máximo son 1 y 64 respectivamente, parece ser que los valores ausentes pertenecen a un grupo de datos específico, esto lo revisaré más adelante."
   ]
  },
  {
   "cell_type": "code",
   "execution_count": 37,
   "id": "ab9d0c2b",
   "metadata": {
    "execution": {
     "iopub.execute_input": "2025-04-17T03:06:45.905574Z",
     "iopub.status.busy": "2025-04-17T03:06:45.905289Z",
     "iopub.status.idle": "2025-04-17T03:06:45.924910Z",
     "shell.execute_reply": "2025-04-17T03:06:45.923568Z",
     "shell.execute_reply.started": "2025-04-17T03:06:45.905546Z"
    },
    "id": "ab9d0c2b",
    "trusted": true
   },
   "outputs": [],
   "source": [
    "# Guarda todas las IDs de pedidos que tengan un valor ausente en 'add_to_cart_order'\n",
    "null_order = order_products[order_products['add_to_cart_order'].isna()]\n",
    "add_to_cart_order = null_order['order_id']\n"
   ]
  },
  {
   "cell_type": "code",
   "execution_count": 38,
   "id": "54c31695",
   "metadata": {
    "execution": {
     "iopub.execute_input": "2025-04-17T03:06:45.926432Z",
     "iopub.status.busy": "2025-04-17T03:06:45.925981Z",
     "iopub.status.idle": "2025-04-17T03:06:45.936072Z",
     "shell.execute_reply": "2025-04-17T03:06:45.935069Z",
     "shell.execute_reply.started": "2025-04-17T03:06:45.926395Z"
    },
    "id": "54c31695",
    "trusted": true
   },
   "outputs": [
    {
     "name": "stdout",
     "output_type": "stream",
     "text": [
      "order_id\n",
      "9310        1\n",
      "61355      63\n",
      "102236     31\n",
      "129627      5\n",
      "165801      6\n",
      "           ..\n",
      "2999801     6\n",
      "3125735    22\n",
      "3308010    51\n",
      "3347453     7\n",
      "3383594     5\n",
      "Name: product_id, Length: 70, dtype: int64\n",
      "\n",
      "Valor mínimo:  1\n",
      "Valor máximo:  63\n"
     ]
    }
   ],
   "source": [
    "# ¿Todos los pedidos con valores ausentes tienen más de 64 productos?\n",
    "# Agrupa todos los pedidos con datos ausentes por su ID de pedido.\n",
    "# Cuenta el número de 'product_id' en cada pedido y revisa el valor mínimo del conteo.\n",
    "order_groups = null_order.groupby('order_id')['product_id'].count()\n",
    "print(order_groups)\n",
    "print()\n",
    "print('Valor mínimo: ', order_groups.min())\n",
    "print('Valor máximo: ', order_groups.max())"
   ]
  },
  {
   "cell_type": "markdown",
   "id": "p9V6pddtjglj",
   "metadata": {
    "id": "p9V6pddtjglj"
   },
   "source": [
    "Describe brevemente cuáles son tus hallazgos.\n",
    "\n",
    "La respuesta a la pregunta antes planteada es no, las ordenes que tienen valores ausentes tienen un número de productos en un rango de 1 a 63."
   ]
  },
  {
   "cell_type": "code",
   "execution_count": 39,
   "id": "7a987d08",
   "metadata": {
    "execution": {
     "iopub.execute_input": "2025-04-17T03:06:45.937825Z",
     "iopub.status.busy": "2025-04-17T03:06:45.937476Z",
     "iopub.status.idle": "2025-04-17T03:06:46.074002Z",
     "shell.execute_reply": "2025-04-17T03:06:46.072980Z",
     "shell.execute_reply.started": "2025-04-17T03:06:45.937796Z"
    },
    "id": "7a987d08",
    "trusted": true
   },
   "outputs": [
    {
     "name": "stdout",
     "output_type": "stream",
     "text": [
      "<class 'pandas.core.frame.DataFrame'>\n",
      "RangeIndex: 4545007 entries, 0 to 4545006\n",
      "Data columns (total 4 columns):\n",
      " #   Column             Non-Null Count    Dtype\n",
      "---  ------             --------------    -----\n",
      " 0   order_id           4545007 non-null  int64\n",
      " 1   product_id         4545007 non-null  int64\n",
      " 2   add_to_cart_order  4545007 non-null  int32\n",
      " 3   reordered          4545007 non-null  int64\n",
      "dtypes: int32(1), int64(3)\n",
      "memory usage: 121.4 MB\n"
     ]
    }
   ],
   "source": [
    "# Remplaza los valores ausentes en la columna 'add_to_cart? con 999 y convierte la columna al tipo entero.\n",
    "order_products.fillna(999, inplace = True)\n",
    "order_products['add_to_cart_order'] = order_products['add_to_cart_order'].astype(int)\n",
    "order_products.info(show_counts=True)\n",
    "#muestro la información del DF, se puede ver que ya no hay valores ausentes, y la columna add_to_cart_order ya es de tipo entero."
   ]
  },
  {
   "cell_type": "markdown",
   "id": "fea4bcc7",
   "metadata": {
    "id": "fea4bcc7"
   },
   "source": [
    "Describe brevemente tus hallazgos y lo que hiciste con ellos.\n",
    "\n",
    "Para tratar los valores ausentes del DataFrame, los rellenamos con 999 y posteriormente convertimos esa columna de tipo de datos float64 a tipo de datos int64."
   ]
  },
  {
   "cell_type": "markdown",
   "id": "RnplPFY1gSrb",
   "metadata": {
    "id": "RnplPFY1gSrb"
   },
   "source": [
    "## Conclusiones\n",
    "\n",
    "Escribe aquí tus conclusiones intermedias sobre el Paso 2. Preprocesamiento de los datos\n",
    "\n",
    "En este paso nos encontramos con que tres de los DataFrames tenían problemas de calidad, para garantizar el correcto análisis tuvimos que tratar estos problemas, en general solo presentaban valores duplicados y ausentes. Cabe resaltar que en la mayoría de casos de tanto valores duplicados como valores ausentes, estos tenían una razón de ser, o estaban relacionados con otras columnas, mostraban patrones lo que indica que no son errores accidentales."
   ]
  },
  {
   "cell_type": "markdown",
   "id": "UjrOIwTcz3ri",
   "metadata": {
    "id": "UjrOIwTcz3ri"
   },
   "source": [
    "# Paso 3. Análisis de los datos\n",
    "\n",
    "Una vez los datos estén procesados y listos, haz el siguiente análisis:"
   ]
  },
  {
   "cell_type": "markdown",
   "id": "turkish-kidney",
   "metadata": {
    "id": "turkish-kidney"
   },
   "source": [
    "# [A] Fácil (deben completarse todos para aprobar)\n",
    "\n",
    "1. Verifica que los valores en las columnas `'order_hour_of_day'` y `'order_dow'` en la tabla orders sean razonables (es decir, `'order_hour_of_day'` oscile entre 0 y 23 y `'order_dow'` oscile entre 0 y 6).\n",
    "2. Crea un gráfico que muestre el número de personas que hacen pedidos dependiendo de la hora del día.\n",
    "3. Crea un gráfico que muestre qué día de la semana la gente hace sus compras.\n",
    "4. Crea un gráfico que muestre el tiempo que la gente espera hasta hacer su siguiente pedido, y comenta sobre los valores mínimos y máximos."
   ]
  },
  {
   "cell_type": "markdown",
   "id": "short-capability",
   "metadata": {
    "id": "short-capability"
   },
   "source": [
    "### [A1] Verifica que los valores sean sensibles"
   ]
  },
  {
   "cell_type": "code",
   "execution_count": 40,
   "id": "growing-fruit",
   "metadata": {
    "execution": {
     "iopub.execute_input": "2025-04-17T03:06:46.075311Z",
     "iopub.status.busy": "2025-04-17T03:06:46.075056Z",
     "iopub.status.idle": "2025-04-17T03:06:46.081381Z",
     "shell.execute_reply": "2025-04-17T03:06:46.080580Z",
     "shell.execute_reply.started": "2025-04-17T03:06:46.075291Z"
    },
    "id": "growing-fruit",
    "trusted": true
   },
   "outputs": [
    {
     "name": "stdout",
     "output_type": "stream",
     "text": [
      "Valor mínimos:  0\n",
      "Valr máximo:  23\n"
     ]
    }
   ],
   "source": [
    "#Vamos a verificar si los datos de la columna order_hour_of_day están entre 0 y 23.\n",
    "print('Valor mínimos: ', orders['order_hour_of_day'].min())\n",
    "print('Valr máximo: ', orders['order_hour_of_day'].max())"
   ]
  },
  {
   "cell_type": "code",
   "execution_count": 41,
   "id": "accessory-malaysia",
   "metadata": {
    "execution": {
     "iopub.execute_input": "2025-04-17T03:06:46.082399Z",
     "iopub.status.busy": "2025-04-17T03:06:46.082161Z",
     "iopub.status.idle": "2025-04-17T03:06:46.103373Z",
     "shell.execute_reply": "2025-04-17T03:06:46.102402Z",
     "shell.execute_reply.started": "2025-04-17T03:06:46.082380Z"
    },
    "id": "accessory-malaysia",
    "trusted": true
   },
   "outputs": [
    {
     "name": "stdout",
     "output_type": "stream",
     "text": [
      "Valor mínimos:  0\n",
      "Valr máximo:  6\n"
     ]
    }
   ],
   "source": [
    "#Vamos a confirmar que los valores de la columna order_dow estén entre 0 y 6.\n",
    "print('Valor mínimos: ', orders['order_dow'].min())\n",
    "print('Valr máximo: ', orders['order_dow'].max())"
   ]
  },
  {
   "cell_type": "markdown",
   "id": "hmR2GNQ6lCsX",
   "metadata": {
    "id": "hmR2GNQ6lCsX"
   },
   "source": [
    "Escribe aquí tus conclusiones\n",
    "\n",
    "Los rangos de valores de las columnas de hora del día y día de la semana están correctos."
   ]
  },
  {
   "cell_type": "markdown",
   "id": "a6743a70",
   "metadata": {
    "id": "a6743a70"
   },
   "source": [
    "### [A2] Para cada hora del día, ¿cuántas personas hacen órdenes?"
   ]
  },
  {
   "cell_type": "code",
   "execution_count": 42,
   "id": "a36cca27",
   "metadata": {
    "execution": {
     "iopub.execute_input": "2025-04-17T03:06:46.104570Z",
     "iopub.status.busy": "2025-04-17T03:06:46.104263Z",
     "iopub.status.idle": "2025-04-17T03:06:46.134840Z",
     "shell.execute_reply": "2025-04-17T03:06:46.133531Z",
     "shell.execute_reply.started": "2025-04-17T03:06:46.104548Z"
    },
    "id": "a36cca27",
    "trusted": true
   },
   "outputs": [
    {
     "data": {
      "text/plain": [
       "order_hour_of_day\n",
       "0      3180\n",
       "1      1763\n",
       "2       989\n",
       "3       770\n",
       "4       765\n",
       "5      1371\n",
       "6      4215\n",
       "7     13043\n",
       "8     25024\n",
       "9     35896\n",
       "10    40578\n",
       "11    40032\n",
       "12    38034\n",
       "13    39007\n",
       "14    39631\n",
       "15    39789\n",
       "16    38112\n",
       "17    31930\n",
       "18    25510\n",
       "19    19547\n",
       "20    14624\n",
       "21    11019\n",
       "22     8512\n",
       "23     5611\n",
       "Name: user_id, dtype: int64"
      ]
     },
     "execution_count": 42,
     "metadata": {},
     "output_type": "execute_result"
    }
   ],
   "source": [
    "order_hour_of_day = orders.groupby('order_hour_of_day')['user_id'].count()\n",
    "order_hour_of_day"
   ]
  },
  {
   "cell_type": "markdown",
   "id": "11270eed",
   "metadata": {
    "id": "11270eed"
   },
   "source": [
    "Escribe aquí tus conclusiones\n",
    "\n",
    "Como se puede observar en la serie, la hora en la que más pedidos se hacen es a las 10:00, se hacen alrededor de 40,000 ordenes, después disminuye y vuelve a subir, para finalmente comenzar un declive en cuanto al número de ordenes. Notese que en la madrugada de las 23:00 hasta las 6 de la mañana el número de ordenes es considerablemente menor, eso tiene sentido ya que a esa hora las personas generalmente no hacen el super."
   ]
  },
  {
   "cell_type": "markdown",
   "id": "documented-command",
   "metadata": {
    "id": "documented-command"
   },
   "source": [
    "### [A3] ¿Qué día de la semana compran víveres las personas?"
   ]
  },
  {
   "cell_type": "code",
   "execution_count": 43,
   "id": "chief-digit",
   "metadata": {
    "execution": {
     "iopub.execute_input": "2025-04-17T03:06:46.135924Z",
     "iopub.status.busy": "2025-04-17T03:06:46.135654Z",
     "iopub.status.idle": "2025-04-17T03:06:46.149849Z",
     "shell.execute_reply": "2025-04-17T03:06:46.148949Z",
     "shell.execute_reply.started": "2025-04-17T03:06:46.135905Z"
    },
    "id": "chief-digit",
    "trusted": true
   },
   "outputs": [
    {
     "data": {
      "text/plain": [
       "order_dow\n",
       "0    84090\n",
       "1    82185\n",
       "2    65833\n",
       "3    60897\n",
       "4    59810\n",
       "5    63488\n",
       "6    62649\n",
       "Name: user_id, dtype: int64"
      ]
     },
     "execution_count": 43,
     "metadata": {},
     "output_type": "execute_result"
    }
   ],
   "source": [
    "order_dow = orders.groupby('order_dow')['user_id'].count()\n",
    "order_dow"
   ]
  },
  {
   "cell_type": "markdown",
   "id": "dominant-lightning",
   "metadata": {
    "id": "dominant-lightning"
   },
   "source": [
    "Escribe aquí tus conclusiones\n",
    "\n",
    "El domingo y el lúnes son los días de la semana en los cuáles se realizan más ordenes, los demás días de la semana son similares en cuanto a la cantidad de ordenes, esta cantidad disminuye un poco entre semana y a partir del viernes comienza a aumentar hasta llegar al lúnes, el martes disminuye significativamente."
   ]
  },
  {
   "cell_type": "markdown",
   "id": "cutting-concert",
   "metadata": {
    "id": "cutting-concert"
   },
   "source": [
    "### [A4] ¿Cuánto tiempo esperan las personas hasta hacer otro pedido? Comenta sobre los valores mínimos y máximos."
   ]
  },
  {
   "cell_type": "code",
   "execution_count": 44,
   "id": "c231f523",
   "metadata": {
    "execution": {
     "iopub.execute_input": "2025-04-17T03:06:46.151189Z",
     "iopub.status.busy": "2025-04-17T03:06:46.150916Z",
     "iopub.status.idle": "2025-04-17T03:06:46.173714Z",
     "shell.execute_reply": "2025-04-17T03:06:46.172717Z",
     "shell.execute_reply.started": "2025-04-17T03:06:46.151161Z"
    },
    "id": "c231f523",
    "trusted": true
   },
   "outputs": [
    {
     "name": "stdout",
     "output_type": "stream",
     "text": [
      "days_since_prior_order\n",
      "0.0     38406\n",
      "1.0     20179\n",
      "2.0     27138\n",
      "3.0     30224\n",
      "4.0     31006\n",
      "5.0     30096\n",
      "6.0     33930\n",
      "7.0     44577\n",
      "8.0     25361\n",
      "9.0     16753\n",
      "10.0    13309\n",
      "11.0    11467\n",
      "12.0    10658\n",
      "13.0    11737\n",
      "14.0    13992\n",
      "15.0     9416\n",
      "16.0     6587\n",
      "17.0     5498\n",
      "18.0     4971\n",
      "19.0     4939\n",
      "20.0     5302\n",
      "21.0     6448\n",
      "22.0     4514\n",
      "23.0     3337\n",
      "24.0     3015\n",
      "25.0     2711\n",
      "26.0     2640\n",
      "27.0     2986\n",
      "28.0     3745\n",
      "29.0     2673\n",
      "30.0    51337\n",
      "Name: user_id, dtype: int64\n",
      "\n",
      "Menor número de ordenes:  2640\n",
      "Mayor número de ordenes:  51337\n"
     ]
    }
   ],
   "source": [
    "days_since_prior_order = orders.groupby('days_since_prior_order')['user_id'].count()\n",
    "print(days_since_prior_order)\n",
    "print()\n",
    "print('Menor número de ordenes: ', days_since_prior_order.min())\n",
    "print('Mayor número de ordenes: ', days_since_prior_order.max())\n"
   ]
  },
  {
   "cell_type": "markdown",
   "id": "discrete-vertex",
   "metadata": {
    "id": "discrete-vertex"
   },
   "source": [
    "Escribe aquí tus conclusiones\n",
    "\n",
    "Para dar respuesta a la pregunta agrupamos por la columna days_since_prior_order y después contamos el número de ordenes. La tabla presenta 3 picos, el día 0, el día 7 y el día 30, me parece muy interesante y lógico que las personas vuelvan muy pronto, algunas personas hacen el super cada semana lo que hace sentido con el día 7 y otras personas lo hacen una ves al mes, lo que también tiene sentido. En los intervalos de tiempo de otros días las personas hacen menos pedidos, de el transcurso de 1 a 7 días la cantidad de pedidos es considerable, después disminuye y tiene un pequeño aumento en los 14 días, es decir a las dos semanas.\n",
    "En cuanto al valor mínimo de ordenes es 2640 y el máximo es de 51337, este valor máximo lo alcanza a los 30 días de la compra. El valor mínimo lo alcanza a los 29 días. Es impresionante como sube drasticamente del día 29 al 30 el número de ordenes."
   ]
  },
  {
   "cell_type": "markdown",
   "id": "tight-staff",
   "metadata": {
    "id": "tight-staff"
   },
   "source": [
    "# [B] Intermedio (deben completarse todos para aprobar)\n",
    "\n",
    "1. ¿Existe alguna diferencia entre las distribuciones `'order_hour_of_day'` de los miércoles y los sábados? Traza gráficos de barra de `'order_hour_of_day'` para ambos días en la misma figura y describe las diferencias que observes.\n",
    "2. Grafica la distribución para el número de órdenes que hacen los clientes (es decir, cuántos clientes hicieron solo 1 pedido, cuántos hicieron 2, cuántos 3, y así sucesivamente...).\n",
    "3. ¿Cuáles son los 20 principales productos que se piden con más frecuencia (muestra su identificación y nombre)?"
   ]
  },
  {
   "cell_type": "markdown",
   "id": "packed-classic",
   "metadata": {
    "id": "packed-classic"
   },
   "source": [
    "### [B1] Diferencia entre miércoles y sábados para  `'order_hour_of_day'`. Traza gráficos de barra para los dos días y describe las diferencias que veas."
   ]
  },
  {
   "cell_type": "code",
   "execution_count": 45,
   "id": "d89b8403",
   "metadata": {
    "execution": {
     "iopub.execute_input": "2025-04-17T03:06:46.174901Z",
     "iopub.status.busy": "2025-04-17T03:06:46.174647Z",
     "iopub.status.idle": "2025-04-17T03:06:46.818360Z",
     "shell.execute_reply": "2025-04-17T03:06:46.817402Z",
     "shell.execute_reply.started": "2025-04-17T03:06:46.174879Z"
    },
    "id": "d89b8403",
    "trusted": true
   },
   "outputs": [
    {
     "data": {
      "text/plain": [
       "<function matplotlib.pyplot.show(close=None, block=None)>"
      ]
     },
     "execution_count": 45,
     "metadata": {},
     "output_type": "execute_result"
    },
    {
     "data": {
      "image/png": "[encoded data removed]",
      "text/plain": [
       "<Figure size 640x480 with 1 Axes>"
      ]
     },
     "metadata": {},
     "output_type": "display_data"
    }
   ],
   "source": [
    "wed_orders = orders.query('order_dow == 3').groupby('order_hour_of_day')['user_id'].count()\n",
    "sat_orders = orders.query('order_dow == 6').groupby('order_hour_of_day')['user_id'].count()\n",
    "wed_orders.plot(kind='bar', \n",
    "                title = 'Wednesday orders vs Saturday orders', \n",
    "                xlabel = 'Hour of the day',\n",
    "                ylabel = 'Number of orders')\n",
    "sat_orders.plot(kind='bar', xlabel = 'Hour of the day', color = 'red', alpha = 0.5)\n",
    "plt.legend(['Wednesday orders', 'Saturday_orders'])\n",
    "plt.show"
   ]
  },
  {
   "cell_type": "code",
   "execution_count": 46,
   "id": "94e54e8a",
   "metadata": {
    "execution": {
     "iopub.execute_input": "2025-04-17T03:06:46.820048Z",
     "iopub.status.busy": "2025-04-17T03:06:46.819469Z",
     "iopub.status.idle": "2025-04-17T03:06:47.079971Z",
     "shell.execute_reply": "2025-04-17T03:06:47.079056Z",
     "shell.execute_reply.started": "2025-04-17T03:06:46.820017Z"
    },
    "id": "94e54e8a",
    "trusted": true
   },
   "outputs": [
    {
     "data": {
      "text/plain": [
       "<function matplotlib.pyplot.show(close=None, block=None)>"
      ]
     },
     "execution_count": 46,
     "metadata": {},
     "output_type": "execute_result"
    },
    {
     "data": {
      "image/png": "[encoded data removed]",
      "text/plain": [
       "<Figure size 640x480 with 1 Axes>"
      ]
     },
     "metadata": {},
     "output_type": "display_data"
    }
   ],
   "source": [
    "wed_orders.plot(title = 'Wednesday orders vs Saturday orders', \n",
    "                xlabel = 'Hour of the day',\n",
    "                ylabel = 'Number of orders')\n",
    "sat_orders.plot(xlabel = 'Hour of the day', color = 'red')\n",
    "plt.legend(['Wednesday orders', 'Saturday_orders'])\n",
    "plt.show"
   ]
  },
  {
   "cell_type": "markdown",
   "id": "charitable-congo",
   "metadata": {
    "id": "charitable-congo"
   },
   "source": [
    "Escribe aquí tus conclusiones\n",
    "\n",
    "Decidí mostrar también un grafico de lineas para poder visualizar el comportamiento de una manera más clara. El gráfico muestra para cada día, el número de ordenes por hora, es visible como el día miercoles una vez llegado el pico comienza un pequeño declive y después se vuelve a levantar, de las 10 a las 15 horas. Por otro lado el día sabado la grafica muestra que no hay declive, aumenta casi constantemente hasta alcanzar el pico más alto y posteriormente iniciar su declive, algo importante de mencionar esque para el día sabado, el pico de ordenes se genera en el intervalo de tiempo que para el día miércoles es el declive, de 10:00 a 15:00."
   ]
  },
  {
   "cell_type": "markdown",
   "id": "e3891143",
   "metadata": {
    "id": "e3891143"
   },
   "source": [
    "### [B2] ¿Cuál es la distribución para el número de pedidos por cliente?"
   ]
  },
  {
   "cell_type": "code",
   "execution_count": 47,
   "id": "d8c26c23",
   "metadata": {
    "execution": {
     "iopub.execute_input": "2025-04-17T03:06:47.081351Z",
     "iopub.status.busy": "2025-04-17T03:06:47.081039Z",
     "iopub.status.idle": "2025-04-17T03:06:47.640625Z",
     "shell.execute_reply": "2025-04-17T03:06:47.639740Z",
     "shell.execute_reply.started": "2025-04-17T03:06:47.081330Z"
    },
    "id": "d8c26c23",
    "trusted": true
   },
   "outputs": [
    {
     "data": {
      "text/plain": [
       "<function matplotlib.pyplot.show(close=None, block=None)>"
      ]
     },
     "execution_count": 47,
     "metadata": {},
     "output_type": "execute_result"
    },
    {
     "data": {
      "image/png": "[encoded data removed]",
      "text/plain": [
       "<Figure size 1200x600 with 1 Axes>"
      ]
     },
     "metadata": {},
     "output_type": "display_data"
    }
   ],
   "source": [
    "orders_per_client = orders.groupby('user_id')['order_number'].max()\n",
    "\n",
    "\n",
    "distribution = orders_per_client.value_counts().sort_index()\n",
    "\n",
    "distribution.plot(kind='bar', figsize=(12, 6), rot = 360, color = 'green')\n",
    "plt.title('Distribution of orders by customer')\n",
    "plt.xlabel('Number of orders')\n",
    "plt.ylabel('Number of clients')\n",
    "plt.xticks(ticks=range(0, max(distribution.index)+1, 5))\n",
    "plt.show"
   ]
  },
  {
   "cell_type": "code",
   "execution_count": null,
   "id": "00e69a66",
   "metadata": {
    "id": "00e69a66",
    "trusted": true
   },
   "outputs": [],
   "source": []
  },
  {
   "cell_type": "markdown",
   "id": "d2eff7d5",
   "metadata": {
    "id": "d2eff7d5"
   },
   "source": [
    "Escribe aquí tus conclusiones\n",
    "\n",
    "En el gráfico podemos ver claramente como los pedidos con pocas ordenes predominan, la mayoría de personas hacen ordenes pocas ordenes, el pico de la gráfica muestra que al rededor de 12,000 clientes hacen compras de 4 ordenes. Mientrás la cantidad de ordenes aumenta, el número de clientes disminuye constantemente, a partir de las 94 ordenes aproximadamente, comienza un ligero ascenso en el número de clientes. Esto hace sentido ya que instacart tiene un modelo de negocio B2C(Business to costumer) lo que implica que la mayoría de los clientes compran en pequeñas cantidades."
   ]
  },
  {
   "cell_type": "markdown",
   "id": "54a0319c",
   "metadata": {
    "id": "54a0319c"
   },
   "source": [
    "### [B3] ¿Cuáles son los 20 productos más populares (muestra su ID y nombre)?"
   ]
  },
  {
   "cell_type": "code",
   "execution_count": 48,
   "id": "exterior-arizona",
   "metadata": {
    "execution": {
     "iopub.execute_input": "2025-04-17T03:55:22.578628Z",
     "iopub.status.busy": "2025-04-17T03:55:22.578346Z",
     "iopub.status.idle": "2025-04-17T03:55:22.731585Z",
     "shell.execute_reply": "2025-04-17T03:55:22.730318Z",
     "shell.execute_reply.started": "2025-04-17T03:55:22.578609Z"
    },
    "id": "exterior-arizona",
    "scrolled": true,
    "trusted": true
   },
   "outputs": [
    {
     "data": {
      "text/html": [
       "<div>\n",
       "<style scoped>\n",
       "    .dataframe tbody tr th:only-of-type {\n",
       "        vertical-align: middle;\n",
       "    }\n",
       "\n",
       "    .dataframe tbody tr th {\n",
       "        vertical-align: top;\n",
       "    }\n",
       "\n",
       "    .dataframe thead th {\n",
       "        text-align: right;\n",
       "    }\n",
       "</style>\n",
       "<table border=\"1\" class=\"dataframe\">\n",
       "  <thead>\n",
       "    <tr style=\"text-align: right;\">\n",
       "      <th></th>\n",
       "      <th>product_id</th>\n",
       "      <th>number_of_times_purchased</th>\n",
       "      <th>product_name</th>\n",
       "    </tr>\n",
       "  </thead>\n",
       "  <tbody>\n",
       "    <tr>\n",
       "      <th>0</th>\n",
       "      <td>24852</td>\n",
       "      <td>66050</td>\n",
       "      <td>BANANA</td>\n",
       "    </tr>\n",
       "    <tr>\n",
       "      <th>1</th>\n",
       "      <td>13176</td>\n",
       "      <td>53297</td>\n",
       "      <td>BAG OF ORGANIC BANANAS</td>\n",
       "    </tr>\n",
       "    <tr>\n",
       "      <th>2</th>\n",
       "      <td>21137</td>\n",
       "      <td>37039</td>\n",
       "      <td>ORGANIC STRAWBERRIES</td>\n",
       "    </tr>\n",
       "    <tr>\n",
       "      <th>3</th>\n",
       "      <td>21903</td>\n",
       "      <td>33971</td>\n",
       "      <td>ORGANIC BABY SPINACH</td>\n",
       "    </tr>\n",
       "    <tr>\n",
       "      <th>4</th>\n",
       "      <td>47209</td>\n",
       "      <td>29773</td>\n",
       "      <td>ORGANIC HASS AVOCADO</td>\n",
       "    </tr>\n",
       "    <tr>\n",
       "      <th>5</th>\n",
       "      <td>47766</td>\n",
       "      <td>24689</td>\n",
       "      <td>ORGANIC AVOCADO</td>\n",
       "    </tr>\n",
       "    <tr>\n",
       "      <th>6</th>\n",
       "      <td>47626</td>\n",
       "      <td>21495</td>\n",
       "      <td>LARGE LEMON</td>\n",
       "    </tr>\n",
       "    <tr>\n",
       "      <th>7</th>\n",
       "      <td>16797</td>\n",
       "      <td>20018</td>\n",
       "      <td>STRAWBERRIES</td>\n",
       "    </tr>\n",
       "    <tr>\n",
       "      <th>8</th>\n",
       "      <td>26209</td>\n",
       "      <td>19690</td>\n",
       "      <td>LIMES</td>\n",
       "    </tr>\n",
       "    <tr>\n",
       "      <th>9</th>\n",
       "      <td>27845</td>\n",
       "      <td>19600</td>\n",
       "      <td>ORGANIC WHOLE MILK</td>\n",
       "    </tr>\n",
       "    <tr>\n",
       "      <th>10</th>\n",
       "      <td>27966</td>\n",
       "      <td>19197</td>\n",
       "      <td>ORGANIC RASPBERRIES</td>\n",
       "    </tr>\n",
       "    <tr>\n",
       "      <th>11</th>\n",
       "      <td>22935</td>\n",
       "      <td>15898</td>\n",
       "      <td>ORGANIC YELLOW ONION</td>\n",
       "    </tr>\n",
       "    <tr>\n",
       "      <th>12</th>\n",
       "      <td>24964</td>\n",
       "      <td>15292</td>\n",
       "      <td>ORGANIC GARLIC</td>\n",
       "    </tr>\n",
       "    <tr>\n",
       "      <th>13</th>\n",
       "      <td>45007</td>\n",
       "      <td>14584</td>\n",
       "      <td>ORGANIC ZUCCHINI</td>\n",
       "    </tr>\n",
       "    <tr>\n",
       "      <th>14</th>\n",
       "      <td>39275</td>\n",
       "      <td>13879</td>\n",
       "      <td>ORGANIC BLUEBERRIES</td>\n",
       "    </tr>\n",
       "    <tr>\n",
       "      <th>15</th>\n",
       "      <td>49683</td>\n",
       "      <td>13675</td>\n",
       "      <td>CUCUMBER KIRBY</td>\n",
       "    </tr>\n",
       "    <tr>\n",
       "      <th>16</th>\n",
       "      <td>28204</td>\n",
       "      <td>12544</td>\n",
       "      <td>ORGANIC FUJI APPLE</td>\n",
       "    </tr>\n",
       "    <tr>\n",
       "      <th>17</th>\n",
       "      <td>5876</td>\n",
       "      <td>12232</td>\n",
       "      <td>ORGANIC LEMON</td>\n",
       "    </tr>\n",
       "    <tr>\n",
       "      <th>18</th>\n",
       "      <td>8277</td>\n",
       "      <td>11993</td>\n",
       "      <td>APPLE HONEYCRISP ORGANIC</td>\n",
       "    </tr>\n",
       "    <tr>\n",
       "      <th>19</th>\n",
       "      <td>40706</td>\n",
       "      <td>11781</td>\n",
       "      <td>ORGANIC GRAPE TOMATOES</td>\n",
       "    </tr>\n",
       "  </tbody>\n",
       "</table>\n",
       "</div>"
      ],
      "text/plain": [
       "    product_id  number_of_times_purchased              product_name\n",
       "0        24852                      66050                    BANANA\n",
       "1        13176                      53297    BAG OF ORGANIC BANANAS\n",
       "2        21137                      37039      ORGANIC STRAWBERRIES\n",
       "3        21903                      33971      ORGANIC BABY SPINACH\n",
       "4        47209                      29773      ORGANIC HASS AVOCADO\n",
       "5        47766                      24689           ORGANIC AVOCADO\n",
       "6        47626                      21495               LARGE LEMON\n",
       "7        16797                      20018              STRAWBERRIES\n",
       "8        26209                      19690                     LIMES\n",
       "9        27845                      19600        ORGANIC WHOLE MILK\n",
       "10       27966                      19197       ORGANIC RASPBERRIES\n",
       "11       22935                      15898      ORGANIC YELLOW ONION\n",
       "12       24964                      15292            ORGANIC GARLIC\n",
       "13       45007                      14584          ORGANIC ZUCCHINI\n",
       "14       39275                      13879       ORGANIC BLUEBERRIES\n",
       "15       49683                      13675            CUCUMBER KIRBY\n",
       "16       28204                      12544        ORGANIC FUJI APPLE\n",
       "17        5876                      12232             ORGANIC LEMON\n",
       "18        8277                      11993  APPLE HONEYCRISP ORGANIC\n",
       "19       40706                      11781    ORGANIC GRAPE TOMATOES"
      ]
     },
     "execution_count": 48,
     "metadata": {},
     "output_type": "execute_result"
    }
   ],
   "source": [
    "product_count = order_products['product_id'].value_counts()\n",
    "top_20_products = product_count.sort_values(ascending = False).head(20)\n",
    "top_20_products_df = top_20_products.reset_index()\n",
    "top_20_products_df.columns = ['product_id', 'number_of_times_purchased']\n",
    "top_20_products_merged = pd.merge(top_20_products_df, products[['product_id', 'product_name']], on='product_id', how='left')\n",
    "top_20_products_merged"
   ]
  },
  {
   "cell_type": "markdown",
   "id": "7df00f47",
   "metadata": {
    "id": "7df00f47"
   },
   "source": [
    "Escribe aquí tus conclusiones\n",
    "Anteriormente mostramos los 20 productos más populares con su id de producto y el número de veces que se compro este producto, como podemos ver los platanos son el producto más popular, seguido por la bolsa orgánica de platanos y las fresas organicas. E. número de veces que se compro el producto \"Banana\" fue 66050 lo cual es una gran cantidad. "
   ]
  },
  {
   "cell_type": "markdown",
   "id": "gross-theme",
   "metadata": {
    "id": "gross-theme"
   },
   "source": [
    "# [C] Difícil (deben completarse todos para aprobar)\n",
    "\n",
    "1. ¿Cuántos artículos suelen comprar las personas en un pedido? ¿Cómo es la distribución?\n",
    "2. ¿Cuáles son los 20 principales artículos que vuelven a pedirse con mayor frecuencia (muestra sus nombres e IDs de los productos)?\n",
    "3. Para cada producto, ¿cuál es la tasa de repetición del pedido (número de repeticiones de pedido/total de pedidos?\n",
    "4. Para cada cliente, ¿qué proporción de los productos que pidió ya los había pedido? Calcula la tasa de repetición de pedido para cada usuario en lugar de para cada producto.\n",
    "5. ¿Cuáles son los 20 principales artículos que la gente pone primero en sus carritos (muestra las IDs de los productos, sus nombres, y el número de veces en que fueron el primer artículo en añadirse al carrito)?"
   ]
  },
  {
   "cell_type": "markdown",
   "id": "romantic-deposit",
   "metadata": {
    "id": "romantic-deposit"
   },
   "source": [
    "### [C1] ¿Cuántos artículos compran normalmente las personas en un pedido? ¿Cómo es la distribución?"
   ]
  },
  {
   "cell_type": "code",
   "execution_count": 49,
   "id": "virtual-punch",
   "metadata": {
    "execution": {
     "iopub.execute_input": "2025-04-17T03:06:47.859332Z",
     "iopub.status.busy": "2025-04-17T03:06:47.859023Z",
     "iopub.status.idle": "2025-04-17T03:06:48.622585Z",
     "shell.execute_reply": "2025-04-17T03:06:48.621713Z",
     "shell.execute_reply.started": "2025-04-17T03:06:47.859312Z"
    },
    "id": "virtual-punch",
    "trusted": true
   },
   "outputs": [
    {
     "data": {
      "text/plain": [
       "<function matplotlib.pyplot.show(close=None, block=None)>"
      ]
     },
     "execution_count": 49,
     "metadata": {},
     "output_type": "execute_result"
    },
    {
     "data": {
      "image/png": "[encoded data removed]",
      "text/plain": [
       "<Figure size 640x480 with 1 Axes>"
      ]
     },
     "metadata": {},
     "output_type": "display_data"
    }
   ],
   "source": [
    "articles_per_order = order_products.groupby('order_id')['product_id'].count()\n",
    "articles_per_order.plot(kind='hist', \n",
    "                        title = 'Distribution of articles per sale',\n",
    "                        xlabel = 'Number of articles',\n",
    "                        edgecolor = 'black',\n",
    "                        bins = 30)\n",
    "plt.show"
   ]
  },
  {
   "cell_type": "code",
   "execution_count": null,
   "id": "sensitive-breathing",
   "metadata": {
    "id": "sensitive-breathing",
    "trusted": true
   },
   "outputs": [],
   "source": []
  },
  {
   "cell_type": "code",
   "execution_count": null,
   "id": "completed-frank",
   "metadata": {
    "id": "completed-frank",
    "trusted": true
   },
   "outputs": [],
   "source": []
  },
  {
   "cell_type": "markdown",
   "id": "designed-mortality",
   "metadata": {
    "id": "designed-mortality"
   },
   "source": [
    "Escribe aquí tus conclusiones\n",
    "\n",
    "El gráfico anterior representa la distribución de el número de articulos que se compran por cada orden. En el eje x podemos observar este número y en el eje y con que frecuencia se hacen pedidos de este tipo. El histograma muestra claramente como las ordenes con los menores números de artículos son los que más se repiten, comenzando desde uno, después comienza un declive constante en la gráfica donde el número de articulos por orden comienza a descender gradualmente."
   ]
  },
  {
   "cell_type": "markdown",
   "id": "5e6b5537",
   "metadata": {
    "id": "5e6b5537"
   },
   "source": [
    "### [C2] ¿Cuáles son los 20 principales artículos que vuelven a pedirse con mayor frecuencia (muestra sus nombres e IDs de los productos)?"
   ]
  },
  {
   "cell_type": "code",
   "execution_count": 50,
   "id": "9374e55a",
   "metadata": {
    "execution": {
     "iopub.execute_input": "2025-04-17T03:06:48.624192Z",
     "iopub.status.busy": "2025-04-17T03:06:48.623892Z",
     "iopub.status.idle": "2025-04-17T03:06:49.918223Z",
     "shell.execute_reply": "2025-04-17T03:06:49.916993Z",
     "shell.execute_reply.started": "2025-04-17T03:06:48.624159Z"
    },
    "id": "9374e55a",
    "trusted": true
   },
   "outputs": [
    {
     "data": {
      "text/html": [
       "<div>\n",
       "<style scoped>\n",
       "    .dataframe tbody tr th:only-of-type {\n",
       "        vertical-align: middle;\n",
       "    }\n",
       "\n",
       "    .dataframe tbody tr th {\n",
       "        vertical-align: top;\n",
       "    }\n",
       "\n",
       "    .dataframe thead th {\n",
       "        text-align: right;\n",
       "    }\n",
       "</style>\n",
       "<table border=\"1\" class=\"dataframe\">\n",
       "  <thead>\n",
       "    <tr style=\"text-align: right;\">\n",
       "      <th></th>\n",
       "      <th>order_id</th>\n",
       "      <th>product_id</th>\n",
       "      <th>add_to_cart_order</th>\n",
       "      <th>reordered</th>\n",
       "    </tr>\n",
       "  </thead>\n",
       "  <tbody>\n",
       "    <tr>\n",
       "      <th>2043091</th>\n",
       "      <td>4</td>\n",
       "      <td>34862</td>\n",
       "      <td>8</td>\n",
       "      <td>1</td>\n",
       "    </tr>\n",
       "    <tr>\n",
       "      <th>1420535</th>\n",
       "      <td>4</td>\n",
       "      <td>10054</td>\n",
       "      <td>5</td>\n",
       "      <td>1</td>\n",
       "    </tr>\n",
       "    <tr>\n",
       "      <th>1299531</th>\n",
       "      <td>4</td>\n",
       "      <td>32645</td>\n",
       "      <td>12</td>\n",
       "      <td>1</td>\n",
       "    </tr>\n",
       "    <tr>\n",
       "      <th>311805</th>\n",
       "      <td>4</td>\n",
       "      <td>46842</td>\n",
       "      <td>1</td>\n",
       "      <td>0</td>\n",
       "    </tr>\n",
       "    <tr>\n",
       "      <th>4107072</th>\n",
       "      <td>4</td>\n",
       "      <td>40285</td>\n",
       "      <td>9</td>\n",
       "      <td>1</td>\n",
       "    </tr>\n",
       "    <tr>\n",
       "      <th>...</th>\n",
       "      <td>...</td>\n",
       "      <td>...</td>\n",
       "      <td>...</td>\n",
       "      <td>...</td>\n",
       "    </tr>\n",
       "    <tr>\n",
       "      <th>1505667</th>\n",
       "      <td>3421077</td>\n",
       "      <td>27966</td>\n",
       "      <td>1</td>\n",
       "      <td>0</td>\n",
       "    </tr>\n",
       "    <tr>\n",
       "      <th>4000108</th>\n",
       "      <td>3421077</td>\n",
       "      <td>27845</td>\n",
       "      <td>4</td>\n",
       "      <td>0</td>\n",
       "    </tr>\n",
       "    <tr>\n",
       "      <th>719972</th>\n",
       "      <td>3421077</td>\n",
       "      <td>26940</td>\n",
       "      <td>3</td>\n",
       "      <td>0</td>\n",
       "    </tr>\n",
       "    <tr>\n",
       "      <th>4417991</th>\n",
       "      <td>3421077</td>\n",
       "      <td>45007</td>\n",
       "      <td>2</td>\n",
       "      <td>0</td>\n",
       "    </tr>\n",
       "    <tr>\n",
       "      <th>4473670</th>\n",
       "      <td>3421079</td>\n",
       "      <td>30136</td>\n",
       "      <td>1</td>\n",
       "      <td>0</td>\n",
       "    </tr>\n",
       "  </tbody>\n",
       "</table>\n",
       "<p>4545007 rows × 4 columns</p>\n",
       "</div>"
      ],
      "text/plain": [
       "         order_id  product_id  add_to_cart_order  reordered\n",
       "2043091         4       34862                  8          1\n",
       "1420535         4       10054                  5          1\n",
       "1299531         4       32645                 12          1\n",
       "311805          4       46842                  1          0\n",
       "4107072         4       40285                  9          1\n",
       "...           ...         ...                ...        ...\n",
       "1505667   3421077       27966                  1          0\n",
       "4000108   3421077       27845                  4          0\n",
       "719972    3421077       26940                  3          0\n",
       "4417991   3421077       45007                  2          0\n",
       "4473670   3421079       30136                  1          0\n",
       "\n",
       "[4545007 rows x 4 columns]"
      ]
     },
     "execution_count": 50,
     "metadata": {},
     "output_type": "execute_result"
    }
   ],
   "source": [
    "#Primero voy a ordenar el DataFrame por su id de orden\n",
    "order_products.sort_values(by='order_id', inplace = True)\n",
    "order_products"
   ]
  },
  {
   "cell_type": "code",
   "execution_count": 51,
   "id": "possible-change",
   "metadata": {
    "execution": {
     "iopub.execute_input": "2025-04-17T03:06:49.920328Z",
     "iopub.status.busy": "2025-04-17T03:06:49.919559Z",
     "iopub.status.idle": "2025-04-17T03:06:50.155566Z",
     "shell.execute_reply": "2025-04-17T03:06:50.154555Z",
     "shell.execute_reply.started": "2025-04-17T03:06:49.920300Z"
    },
    "id": "possible-change",
    "scrolled": true,
    "trusted": true
   },
   "outputs": [
    {
     "data": {
      "text/html": [
       "<div>\n",
       "<style scoped>\n",
       "    .dataframe tbody tr th:only-of-type {\n",
       "        vertical-align: middle;\n",
       "    }\n",
       "\n",
       "    .dataframe tbody tr th {\n",
       "        vertical-align: top;\n",
       "    }\n",
       "\n",
       "    .dataframe thead th {\n",
       "        text-align: right;\n",
       "    }\n",
       "</style>\n",
       "<table border=\"1\" class=\"dataframe\">\n",
       "  <thead>\n",
       "    <tr style=\"text-align: right;\">\n",
       "      <th></th>\n",
       "      <th>product_id</th>\n",
       "      <th>reorder_count</th>\n",
       "      <th>product_name</th>\n",
       "    </tr>\n",
       "  </thead>\n",
       "  <tbody>\n",
       "    <tr>\n",
       "      <th>0</th>\n",
       "      <td>24852</td>\n",
       "      <td>55763</td>\n",
       "      <td>BANANA</td>\n",
       "    </tr>\n",
       "    <tr>\n",
       "      <th>1</th>\n",
       "      <td>13176</td>\n",
       "      <td>44450</td>\n",
       "      <td>BAG OF ORGANIC BANANAS</td>\n",
       "    </tr>\n",
       "    <tr>\n",
       "      <th>2</th>\n",
       "      <td>21137</td>\n",
       "      <td>28639</td>\n",
       "      <td>ORGANIC STRAWBERRIES</td>\n",
       "    </tr>\n",
       "    <tr>\n",
       "      <th>3</th>\n",
       "      <td>21903</td>\n",
       "      <td>26233</td>\n",
       "      <td>ORGANIC BABY SPINACH</td>\n",
       "    </tr>\n",
       "    <tr>\n",
       "      <th>4</th>\n",
       "      <td>47209</td>\n",
       "      <td>23629</td>\n",
       "      <td>ORGANIC HASS AVOCADO</td>\n",
       "    </tr>\n",
       "    <tr>\n",
       "      <th>5</th>\n",
       "      <td>47766</td>\n",
       "      <td>18743</td>\n",
       "      <td>ORGANIC AVOCADO</td>\n",
       "    </tr>\n",
       "    <tr>\n",
       "      <th>6</th>\n",
       "      <td>27845</td>\n",
       "      <td>16251</td>\n",
       "      <td>ORGANIC WHOLE MILK</td>\n",
       "    </tr>\n",
       "    <tr>\n",
       "      <th>7</th>\n",
       "      <td>47626</td>\n",
       "      <td>15044</td>\n",
       "      <td>LARGE LEMON</td>\n",
       "    </tr>\n",
       "    <tr>\n",
       "      <th>8</th>\n",
       "      <td>27966</td>\n",
       "      <td>14748</td>\n",
       "      <td>ORGANIC RASPBERRIES</td>\n",
       "    </tr>\n",
       "    <tr>\n",
       "      <th>9</th>\n",
       "      <td>16797</td>\n",
       "      <td>13945</td>\n",
       "      <td>STRAWBERRIES</td>\n",
       "    </tr>\n",
       "    <tr>\n",
       "      <th>10</th>\n",
       "      <td>26209</td>\n",
       "      <td>13327</td>\n",
       "      <td>LIMES</td>\n",
       "    </tr>\n",
       "    <tr>\n",
       "      <th>11</th>\n",
       "      <td>22935</td>\n",
       "      <td>11145</td>\n",
       "      <td>ORGANIC YELLOW ONION</td>\n",
       "    </tr>\n",
       "    <tr>\n",
       "      <th>12</th>\n",
       "      <td>24964</td>\n",
       "      <td>10411</td>\n",
       "      <td>ORGANIC GARLIC</td>\n",
       "    </tr>\n",
       "    <tr>\n",
       "      <th>13</th>\n",
       "      <td>45007</td>\n",
       "      <td>10076</td>\n",
       "      <td>ORGANIC ZUCCHINI</td>\n",
       "    </tr>\n",
       "    <tr>\n",
       "      <th>14</th>\n",
       "      <td>49683</td>\n",
       "      <td>9538</td>\n",
       "      <td>CUCUMBER KIRBY</td>\n",
       "    </tr>\n",
       "    <tr>\n",
       "      <th>15</th>\n",
       "      <td>28204</td>\n",
       "      <td>8989</td>\n",
       "      <td>ORGANIC FUJI APPLE</td>\n",
       "    </tr>\n",
       "    <tr>\n",
       "      <th>16</th>\n",
       "      <td>8277</td>\n",
       "      <td>8836</td>\n",
       "      <td>APPLE HONEYCRISP ORGANIC</td>\n",
       "    </tr>\n",
       "    <tr>\n",
       "      <th>17</th>\n",
       "      <td>39275</td>\n",
       "      <td>8799</td>\n",
       "      <td>ORGANIC BLUEBERRIES</td>\n",
       "    </tr>\n",
       "    <tr>\n",
       "      <th>18</th>\n",
       "      <td>5876</td>\n",
       "      <td>8412</td>\n",
       "      <td>ORGANIC LEMON</td>\n",
       "    </tr>\n",
       "    <tr>\n",
       "      <th>19</th>\n",
       "      <td>49235</td>\n",
       "      <td>8389</td>\n",
       "      <td>ORGANIC HALF &amp; HALF</td>\n",
       "    </tr>\n",
       "  </tbody>\n",
       "</table>\n",
       "</div>"
      ],
      "text/plain": [
       "    product_id  reorder_count              product_name\n",
       "0        24852          55763                    BANANA\n",
       "1        13176          44450    BAG OF ORGANIC BANANAS\n",
       "2        21137          28639      ORGANIC STRAWBERRIES\n",
       "3        21903          26233      ORGANIC BABY SPINACH\n",
       "4        47209          23629      ORGANIC HASS AVOCADO\n",
       "5        47766          18743           ORGANIC AVOCADO\n",
       "6        27845          16251        ORGANIC WHOLE MILK\n",
       "7        47626          15044               LARGE LEMON\n",
       "8        27966          14748       ORGANIC RASPBERRIES\n",
       "9        16797          13945              STRAWBERRIES\n",
       "10       26209          13327                     LIMES\n",
       "11       22935          11145      ORGANIC YELLOW ONION\n",
       "12       24964          10411            ORGANIC GARLIC\n",
       "13       45007          10076          ORGANIC ZUCCHINI\n",
       "14       49683           9538            CUCUMBER KIRBY\n",
       "15       28204           8989        ORGANIC FUJI APPLE\n",
       "16        8277           8836  APPLE HONEYCRISP ORGANIC\n",
       "17       39275           8799       ORGANIC BLUEBERRIES\n",
       "18        5876           8412             ORGANIC LEMON\n",
       "19       49235           8389       ORGANIC HALF & HALF"
      ]
     },
     "execution_count": 51,
     "metadata": {},
     "output_type": "execute_result"
    }
   ],
   "source": [
    "#Filtramos los productos que fueron reordenados con el método Query.\n",
    "reorders = order_products.query('reordered == 1')\n",
    "#Contamos los valores para cada producto a traves de la agrupación mediante product_id.\n",
    "reorder_counts = reorders.groupby('product_id')['reordered'].count()\n",
    "#Ordenamos la serie para mostrar los 20 productos más reordenados.\n",
    "top_20 = reorder_counts.sort_values(ascending = False).head(20)\n",
    "#Ahora convertiré la serie a DataFrame para poder unirlo con Merge al otro y así poder mostrar el nombre de los productos.\n",
    "top_20_df = top_20.reset_index()\n",
    "top_20_df.columns = ['product_id', 'reorder_count']\n",
    "#Acontinuación unimos columnas de ambos DataFrames para mostrar los 20 productos más reordenados, mediante el método Merge de Pandas\n",
    "top_20_merged = pd.merge(top_20_df, products[['product_id', 'product_name']], on='product_id', how='left')\n",
    "top_20_merged"
   ]
  },
  {
   "cell_type": "code",
   "execution_count": null,
   "id": "professional-surfing",
   "metadata": {
    "id": "professional-surfing",
    "scrolled": true,
    "trusted": true
   },
   "outputs": [],
   "source": []
  },
  {
   "cell_type": "code",
   "execution_count": null,
   "id": "48dd3658",
   "metadata": {
    "id": "48dd3658",
    "trusted": true
   },
   "outputs": [],
   "source": []
  },
  {
   "cell_type": "markdown",
   "id": "80e70c74",
   "metadata": {
    "id": "80e70c74"
   },
   "source": [
    "Escribe aquí tus conclusiones"
   ]
  },
  {
   "cell_type": "markdown",
   "id": "9d312b14",
   "metadata": {
    "id": "9d312b14"
   },
   "source": [
    "### [C3] Para cada producto, ¿cuál es la proporción de las veces que se pide y que se vuelve a pedir?"
   ]
  },
  {
   "cell_type": "code",
   "execution_count": 52,
   "id": "8ae9f4b1",
   "metadata": {
    "execution": {
     "iopub.execute_input": "2025-04-17T03:06:50.157156Z",
     "iopub.status.busy": "2025-04-17T03:06:50.156921Z",
     "iopub.status.idle": "2025-04-17T03:06:50.559165Z",
     "shell.execute_reply": "2025-04-17T03:06:50.558213Z",
     "shell.execute_reply.started": "2025-04-17T03:06:50.157138Z"
    },
    "id": "8ae9f4b1",
    "trusted": true
   },
   "outputs": [
    {
     "data": {
      "text/html": [
       "<div>\n",
       "<style scoped>\n",
       "    .dataframe tbody tr th:only-of-type {\n",
       "        vertical-align: middle;\n",
       "    }\n",
       "\n",
       "    .dataframe tbody tr th {\n",
       "        vertical-align: top;\n",
       "    }\n",
       "\n",
       "    .dataframe thead th {\n",
       "        text-align: right;\n",
       "    }\n",
       "</style>\n",
       "<table border=\"1\" class=\"dataframe\">\n",
       "  <thead>\n",
       "    <tr style=\"text-align: right;\">\n",
       "      <th></th>\n",
       "      <th>total_orders</th>\n",
       "      <th>total_reorders</th>\n",
       "    </tr>\n",
       "    <tr>\n",
       "      <th>product_id</th>\n",
       "      <th></th>\n",
       "      <th></th>\n",
       "    </tr>\n",
       "  </thead>\n",
       "  <tbody>\n",
       "    <tr>\n",
       "      <th>1</th>\n",
       "      <td>280</td>\n",
       "      <td>158.0</td>\n",
       "    </tr>\n",
       "    <tr>\n",
       "      <th>2</th>\n",
       "      <td>11</td>\n",
       "      <td>0.0</td>\n",
       "    </tr>\n",
       "    <tr>\n",
       "      <th>3</th>\n",
       "      <td>42</td>\n",
       "      <td>31.0</td>\n",
       "    </tr>\n",
       "    <tr>\n",
       "      <th>4</th>\n",
       "      <td>49</td>\n",
       "      <td>25.0</td>\n",
       "    </tr>\n",
       "    <tr>\n",
       "      <th>7</th>\n",
       "      <td>2</td>\n",
       "      <td>1.0</td>\n",
       "    </tr>\n",
       "    <tr>\n",
       "      <th>...</th>\n",
       "      <td>...</td>\n",
       "      <td>...</td>\n",
       "    </tr>\n",
       "    <tr>\n",
       "      <th>49690</th>\n",
       "      <td>5</td>\n",
       "      <td>4.0</td>\n",
       "    </tr>\n",
       "    <tr>\n",
       "      <th>49691</th>\n",
       "      <td>72</td>\n",
       "      <td>31.0</td>\n",
       "    </tr>\n",
       "    <tr>\n",
       "      <th>49692</th>\n",
       "      <td>12</td>\n",
       "      <td>5.0</td>\n",
       "    </tr>\n",
       "    <tr>\n",
       "      <th>49693</th>\n",
       "      <td>25</td>\n",
       "      <td>11.0</td>\n",
       "    </tr>\n",
       "    <tr>\n",
       "      <th>49694</th>\n",
       "      <td>9</td>\n",
       "      <td>3.0</td>\n",
       "    </tr>\n",
       "  </tbody>\n",
       "</table>\n",
       "<p>45573 rows × 2 columns</p>\n",
       "</div>"
      ],
      "text/plain": [
       "            total_orders  total_reorders\n",
       "product_id                              \n",
       "1                    280           158.0\n",
       "2                     11             0.0\n",
       "3                     42            31.0\n",
       "4                     49            25.0\n",
       "7                      2             1.0\n",
       "...                  ...             ...\n",
       "49690                  5             4.0\n",
       "49691                 72            31.0\n",
       "49692                 12             5.0\n",
       "49693                 25            11.0\n",
       "49694                  9             3.0\n",
       "\n",
       "[45573 rows x 2 columns]"
      ]
     },
     "execution_count": 52,
     "metadata": {},
     "output_type": "execute_result"
    }
   ],
   "source": [
    "total_orders = order_products.groupby('product_id').size()\n",
    "reordered = order_products.query('reordered == 1')\n",
    "reordered_products = reordered.groupby('product_id').size()\n",
    "reorder_proportion = pd.DataFrame({\n",
    "    'total_orders': total_orders,\n",
    "    'total_reorders': reordered_products\n",
    "}).fillna(0)\n",
    "reorder_proportion"
   ]
  },
  {
   "cell_type": "code",
   "execution_count": 53,
   "id": "103e7fe1",
   "metadata": {
    "execution": {
     "iopub.execute_input": "2025-04-17T03:07:37.159405Z",
     "iopub.status.busy": "2025-04-17T03:07:37.159091Z",
     "iopub.status.idle": "2025-04-17T03:07:37.181020Z",
     "shell.execute_reply": "2025-04-17T03:07:37.180136Z",
     "shell.execute_reply.started": "2025-04-17T03:07:37.159383Z"
    },
    "id": "103e7fe1",
    "trusted": true
   },
   "outputs": [
    {
     "data": {
      "text/html": [
       "<div>\n",
       "<style scoped>\n",
       "    .dataframe tbody tr th:only-of-type {\n",
       "        vertical-align: middle;\n",
       "    }\n",
       "\n",
       "    .dataframe tbody tr th {\n",
       "        vertical-align: top;\n",
       "    }\n",
       "\n",
       "    .dataframe thead th {\n",
       "        text-align: right;\n",
       "    }\n",
       "</style>\n",
       "<table border=\"1\" class=\"dataframe\">\n",
       "  <thead>\n",
       "    <tr style=\"text-align: right;\">\n",
       "      <th></th>\n",
       "      <th>total_orders</th>\n",
       "      <th>total_reorders</th>\n",
       "      <th>proportion</th>\n",
       "    </tr>\n",
       "    <tr>\n",
       "      <th>product_id</th>\n",
       "      <th></th>\n",
       "      <th></th>\n",
       "      <th></th>\n",
       "    </tr>\n",
       "  </thead>\n",
       "  <tbody>\n",
       "    <tr>\n",
       "      <th>1</th>\n",
       "      <td>280</td>\n",
       "      <td>158.0</td>\n",
       "      <td>0.564286</td>\n",
       "    </tr>\n",
       "    <tr>\n",
       "      <th>2</th>\n",
       "      <td>11</td>\n",
       "      <td>0.0</td>\n",
       "      <td>0.000000</td>\n",
       "    </tr>\n",
       "    <tr>\n",
       "      <th>3</th>\n",
       "      <td>42</td>\n",
       "      <td>31.0</td>\n",
       "      <td>0.738095</td>\n",
       "    </tr>\n",
       "    <tr>\n",
       "      <th>4</th>\n",
       "      <td>49</td>\n",
       "      <td>25.0</td>\n",
       "      <td>0.510204</td>\n",
       "    </tr>\n",
       "    <tr>\n",
       "      <th>7</th>\n",
       "      <td>2</td>\n",
       "      <td>1.0</td>\n",
       "      <td>0.500000</td>\n",
       "    </tr>\n",
       "    <tr>\n",
       "      <th>...</th>\n",
       "      <td>...</td>\n",
       "      <td>...</td>\n",
       "      <td>...</td>\n",
       "    </tr>\n",
       "    <tr>\n",
       "      <th>49690</th>\n",
       "      <td>5</td>\n",
       "      <td>4.0</td>\n",
       "      <td>0.800000</td>\n",
       "    </tr>\n",
       "    <tr>\n",
       "      <th>49691</th>\n",
       "      <td>72</td>\n",
       "      <td>31.0</td>\n",
       "      <td>0.430556</td>\n",
       "    </tr>\n",
       "    <tr>\n",
       "      <th>49692</th>\n",
       "      <td>12</td>\n",
       "      <td>5.0</td>\n",
       "      <td>0.416667</td>\n",
       "    </tr>\n",
       "    <tr>\n",
       "      <th>49693</th>\n",
       "      <td>25</td>\n",
       "      <td>11.0</td>\n",
       "      <td>0.440000</td>\n",
       "    </tr>\n",
       "    <tr>\n",
       "      <th>49694</th>\n",
       "      <td>9</td>\n",
       "      <td>3.0</td>\n",
       "      <td>0.333333</td>\n",
       "    </tr>\n",
       "  </tbody>\n",
       "</table>\n",
       "<p>45573 rows × 3 columns</p>\n",
       "</div>"
      ],
      "text/plain": [
       "            total_orders  total_reorders  proportion\n",
       "product_id                                          \n",
       "1                    280           158.0    0.564286\n",
       "2                     11             0.0    0.000000\n",
       "3                     42            31.0    0.738095\n",
       "4                     49            25.0    0.510204\n",
       "7                      2             1.0    0.500000\n",
       "...                  ...             ...         ...\n",
       "49690                  5             4.0    0.800000\n",
       "49691                 72            31.0    0.430556\n",
       "49692                 12             5.0    0.416667\n",
       "49693                 25            11.0    0.440000\n",
       "49694                  9             3.0    0.333333\n",
       "\n",
       "[45573 rows x 3 columns]"
      ]
     },
     "execution_count": 53,
     "metadata": {},
     "output_type": "execute_result"
    }
   ],
   "source": [
    "reorder_proportion['proportion'] = reorder_proportion['total_reorders'] / reorder_proportion['total_orders']\n",
    "reorder_proportion"
   ]
  },
  {
   "cell_type": "code",
   "execution_count": 54,
   "id": "social-individual",
   "metadata": {
    "execution": {
     "iopub.status.busy": "2025-04-17T03:06:50.666923Z",
     "iopub.status.idle": "2025-04-17T03:06:50.667335Z",
     "shell.execute_reply": "2025-04-17T03:06:50.667156Z",
     "shell.execute_reply.started": "2025-04-17T03:06:50.667138Z"
    },
    "id": "social-individual",
    "trusted": true
   },
   "outputs": [
    {
     "name": "stdout",
     "output_type": "stream",
     "text": [
      "Promedio de reordenes por producto:  0.38670677893645\n",
      "Menor proporción:  0.0\n",
      "Mayor proporción:  1.0\n"
     ]
    }
   ],
   "source": [
    "print('Promedio de reordenes por producto: ', reorder_proportion['proportion'].mean())\n",
    "print('Menor proporción: ', reorder_proportion['proportion'].min())\n",
    "print('Mayor proporción: ', reorder_proportion['proportion'].max())"
   ]
  },
  {
   "cell_type": "markdown",
   "id": "I10dEIAyldcO",
   "metadata": {
    "id": "I10dEIAyldcO"
   },
   "source": [
    "Escribe aquí tus conclusiones\n",
    "\n",
    "En las celdas anteriores mostramos la proporción de las veces que se pide y se vuelve a pedir cada producto, en la siguiente celda calculamos la media de reorden por producto, esto nos muestra que al rededor del 48.6 % de las veces un producto se vuelve a pedir. Me parece interesante que algunos productos tienen una proporción de hasta el 1.0, otros por su parte tienen una proporción de hasta 0.01"
   ]
  },
  {
   "cell_type": "markdown",
   "id": "subject-boxing",
   "metadata": {
    "id": "subject-boxing"
   },
   "source": [
    "### [C4] Para cada cliente, ¿qué proporción de sus productos ya los había pedido?"
   ]
  },
  {
   "cell_type": "code",
   "execution_count": 55,
   "id": "medical-couple",
   "metadata": {
    "execution": {
     "iopub.execute_input": "2025-04-17T03:14:57.893468Z",
     "iopub.status.busy": "2025-04-17T03:14:57.893137Z",
     "iopub.status.idle": "2025-04-17T03:14:58.973990Z",
     "shell.execute_reply": "2025-04-17T03:14:58.973116Z",
     "shell.execute_reply.started": "2025-04-17T03:14:57.893447Z"
    },
    "id": "medical-couple",
    "scrolled": true,
    "trusted": true
   },
   "outputs": [
    {
     "data": {
      "text/html": [
       "<div>\n",
       "<style scoped>\n",
       "    .dataframe tbody tr th:only-of-type {\n",
       "        vertical-align: middle;\n",
       "    }\n",
       "\n",
       "    .dataframe tbody tr th {\n",
       "        vertical-align: top;\n",
       "    }\n",
       "\n",
       "    .dataframe thead th {\n",
       "        text-align: right;\n",
       "    }\n",
       "</style>\n",
       "<table border=\"1\" class=\"dataframe\">\n",
       "  <thead>\n",
       "    <tr style=\"text-align: right;\">\n",
       "      <th></th>\n",
       "      <th>total_orders_per_client</th>\n",
       "      <th>total_reorders_per_client</th>\n",
       "      <th>reorder_proportion</th>\n",
       "    </tr>\n",
       "    <tr>\n",
       "      <th>user_id</th>\n",
       "      <th></th>\n",
       "      <th></th>\n",
       "      <th></th>\n",
       "    </tr>\n",
       "  </thead>\n",
       "  <tbody>\n",
       "    <tr>\n",
       "      <th>2</th>\n",
       "      <td>26</td>\n",
       "      <td>1.0</td>\n",
       "      <td>0.038462</td>\n",
       "    </tr>\n",
       "    <tr>\n",
       "      <th>4</th>\n",
       "      <td>2</td>\n",
       "      <td>0.0</td>\n",
       "      <td>0.000000</td>\n",
       "    </tr>\n",
       "    <tr>\n",
       "      <th>5</th>\n",
       "      <td>12</td>\n",
       "      <td>8.0</td>\n",
       "      <td>0.666667</td>\n",
       "    </tr>\n",
       "    <tr>\n",
       "      <th>6</th>\n",
       "      <td>4</td>\n",
       "      <td>0.0</td>\n",
       "      <td>0.000000</td>\n",
       "    </tr>\n",
       "    <tr>\n",
       "      <th>7</th>\n",
       "      <td>14</td>\n",
       "      <td>13.0</td>\n",
       "      <td>0.928571</td>\n",
       "    </tr>\n",
       "    <tr>\n",
       "      <th>...</th>\n",
       "      <td>...</td>\n",
       "      <td>...</td>\n",
       "      <td>...</td>\n",
       "    </tr>\n",
       "    <tr>\n",
       "      <th>206203</th>\n",
       "      <td>27</td>\n",
       "      <td>6.0</td>\n",
       "      <td>0.222222</td>\n",
       "    </tr>\n",
       "    <tr>\n",
       "      <th>206206</th>\n",
       "      <td>21</td>\n",
       "      <td>15.0</td>\n",
       "      <td>0.714286</td>\n",
       "    </tr>\n",
       "    <tr>\n",
       "      <th>206207</th>\n",
       "      <td>46</td>\n",
       "      <td>41.0</td>\n",
       "      <td>0.891304</td>\n",
       "    </tr>\n",
       "    <tr>\n",
       "      <th>206208</th>\n",
       "      <td>125</td>\n",
       "      <td>87.0</td>\n",
       "      <td>0.696000</td>\n",
       "    </tr>\n",
       "    <tr>\n",
       "      <th>206209</th>\n",
       "      <td>25</td>\n",
       "      <td>8.0</td>\n",
       "      <td>0.320000</td>\n",
       "    </tr>\n",
       "  </tbody>\n",
       "</table>\n",
       "<p>149626 rows × 3 columns</p>\n",
       "</div>"
      ],
      "text/plain": [
       "         total_orders_per_client  total_reorders_per_client  \\\n",
       "user_id                                                       \n",
       "2                             26                        1.0   \n",
       "4                              2                        0.0   \n",
       "5                             12                        8.0   \n",
       "6                              4                        0.0   \n",
       "7                             14                       13.0   \n",
       "...                          ...                        ...   \n",
       "206203                        27                        6.0   \n",
       "206206                        21                       15.0   \n",
       "206207                        46                       41.0   \n",
       "206208                       125                       87.0   \n",
       "206209                        25                        8.0   \n",
       "\n",
       "         reorder_proportion  \n",
       "user_id                      \n",
       "2                  0.038462  \n",
       "4                  0.000000  \n",
       "5                  0.666667  \n",
       "6                  0.000000  \n",
       "7                  0.928571  \n",
       "...                     ...  \n",
       "206203             0.222222  \n",
       "206206             0.714286  \n",
       "206207             0.891304  \n",
       "206208             0.696000  \n",
       "206209             0.320000  \n",
       "\n",
       "[149626 rows x 3 columns]"
      ]
     },
     "execution_count": 55,
     "metadata": {},
     "output_type": "execute_result"
    }
   ],
   "source": [
    "#Debido a que el user_id esta en otro DataFrame, debemos unir ambos DataFrames a continuación para poder continuar.\n",
    "user_orders = pd.merge(order_products, orders[['order_id', 'user_id']], on='order_id', how='left')\n",
    "#Ahora debemos agrupar por user_id para poder calcular el número total de productos pedidos por cliente.\n",
    "total_orders_per_client = user_orders.groupby('user_id')['product_id'].count()\n",
    "#Ahora filtramos las reordenes para después obtener el número total de productos que ya habián ordenado los clientes.\n",
    "total_reorders_per_client = user_orders.query('reordered == 1').groupby('user_id')['product_id'].count()\n",
    "#A continuación uniremos ambos DataFrames y posteriormente agregaremos la columna de la proporción.\n",
    "client_orders_and_reorders = pd.DataFrame({'total_orders_per_client': total_orders_per_client, \n",
    "                                           'total_reorders_per_client': total_reorders_per_client}).fillna(0)\n",
    "#Ahora calculamos la proporción de reorden para cada cliente dividiendo el número de reordenes entre el número total de productos comprados. Y usamos la ingeniería de características para crear una nueva variable(columna) en el DataFrame\n",
    "client_orders_and_reorders['reorder_proportion'] = client_orders_and_reorders['total_reorders_per_client'] / client_orders_and_reorders['total_orders_per_client']\n",
    "client_orders_and_reorders"
   ]
  },
  {
   "cell_type": "code",
   "execution_count": 56,
   "id": "8892e4b4",
   "metadata": {
    "execution": {
     "iopub.execute_input": "2025-04-17T03:16:59.866745Z",
     "iopub.status.busy": "2025-04-17T03:16:59.866395Z",
     "iopub.status.idle": "2025-04-17T03:16:59.874539Z",
     "shell.execute_reply": "2025-04-17T03:16:59.873735Z",
     "shell.execute_reply.started": "2025-04-17T03:16:59.866721Z"
    },
    "id": "8892e4b4",
    "trusted": true
   },
   "outputs": [
    {
     "name": "stdout",
     "output_type": "stream",
     "text": [
      "Promedio de reorden por cliente:  0.4948531736151642\n",
      "Proporción de reorden mínima:  0.0\n",
      "Proporción de reorden máxima:  1.0\n"
     ]
    }
   ],
   "source": [
    "print('Promedio de reorden por cliente: ', client_orders_and_reorders['reorder_proportion'].mean())\n",
    "print('Proporción de reorden mínima: ', client_orders_and_reorders['reorder_proportion'].min())\n",
    "print('Proporción de reorden máxima: ', client_orders_and_reorders['reorder_proportion'].max())"
   ]
  },
  {
   "cell_type": "code",
   "execution_count": 57,
   "id": "1e345547-2dd5-48ba-9618-887c18fcb003",
   "metadata": {
    "execution": {
     "iopub.execute_input": "2025-04-17T03:17:43.708828Z",
     "iopub.status.busy": "2025-04-17T03:17:43.707648Z",
     "iopub.status.idle": "2025-04-17T03:17:43.749292Z",
     "shell.execute_reply": "2025-04-17T03:17:43.748517Z",
     "shell.execute_reply.started": "2025-04-17T03:17:43.708783Z"
    },
    "trusted": true
   },
   "outputs": [
    {
     "data": {
      "text/html": [
       "<div>\n",
       "<style scoped>\n",
       "    .dataframe tbody tr th:only-of-type {\n",
       "        vertical-align: middle;\n",
       "    }\n",
       "\n",
       "    .dataframe tbody tr th {\n",
       "        vertical-align: top;\n",
       "    }\n",
       "\n",
       "    .dataframe thead th {\n",
       "        text-align: right;\n",
       "    }\n",
       "</style>\n",
       "<table border=\"1\" class=\"dataframe\">\n",
       "  <thead>\n",
       "    <tr style=\"text-align: right;\">\n",
       "      <th></th>\n",
       "      <th>total_orders_per_client</th>\n",
       "      <th>total_reorders_per_client</th>\n",
       "      <th>reorder_proportion</th>\n",
       "    </tr>\n",
       "  </thead>\n",
       "  <tbody>\n",
       "    <tr>\n",
       "      <th>count</th>\n",
       "      <td>149626.000000</td>\n",
       "      <td>149626.000000</td>\n",
       "      <td>149626.000000</td>\n",
       "    </tr>\n",
       "    <tr>\n",
       "      <th>mean</th>\n",
       "      <td>30.375784</td>\n",
       "      <td>17.936976</td>\n",
       "      <td>0.494853</td>\n",
       "    </tr>\n",
       "    <tr>\n",
       "      <th>std</th>\n",
       "      <td>35.873511</td>\n",
       "      <td>27.793625</td>\n",
       "      <td>0.292685</td>\n",
       "    </tr>\n",
       "    <tr>\n",
       "      <th>min</th>\n",
       "      <td>1.000000</td>\n",
       "      <td>0.000000</td>\n",
       "      <td>0.000000</td>\n",
       "    </tr>\n",
       "    <tr>\n",
       "      <th>25%</th>\n",
       "      <td>9.000000</td>\n",
       "      <td>2.000000</td>\n",
       "      <td>0.272727</td>\n",
       "    </tr>\n",
       "    <tr>\n",
       "      <th>50%</th>\n",
       "      <td>18.000000</td>\n",
       "      <td>8.000000</td>\n",
       "      <td>0.500000</td>\n",
       "    </tr>\n",
       "    <tr>\n",
       "      <th>75%</th>\n",
       "      <td>38.000000</td>\n",
       "      <td>21.000000</td>\n",
       "      <td>0.724138</td>\n",
       "    </tr>\n",
       "    <tr>\n",
       "      <th>max</th>\n",
       "      <td>580.000000</td>\n",
       "      <td>477.000000</td>\n",
       "      <td>1.000000</td>\n",
       "    </tr>\n",
       "  </tbody>\n",
       "</table>\n",
       "</div>"
      ],
      "text/plain": [
       "       total_orders_per_client  total_reorders_per_client  reorder_proportion\n",
       "count            149626.000000              149626.000000       149626.000000\n",
       "mean                 30.375784                  17.936976            0.494853\n",
       "std                  35.873511                  27.793625            0.292685\n",
       "min                   1.000000                   0.000000            0.000000\n",
       "25%                   9.000000                   2.000000            0.272727\n",
       "50%                  18.000000                   8.000000            0.500000\n",
       "75%                  38.000000                  21.000000            0.724138\n",
       "max                 580.000000                 477.000000            1.000000"
      ]
     },
     "execution_count": 57,
     "metadata": {},
     "output_type": "execute_result"
    }
   ],
   "source": [
    "client_orders_and_reorders.describe()"
   ]
  },
  {
   "cell_type": "markdown",
   "id": "BgJSvXDsleXz",
   "metadata": {
    "id": "BgJSvXDsleXz"
   },
   "source": [
    "Escribe aquí tus conclusiones\n",
    "En la salida anterior podemos observar a traves del método describe() algunas estadísticas generales del DataFrame que creamos. Algunos clientes solo realizarón una compra y por ende no habían comprado ese producto antes. Algunos llegaron a comprar 580 productos lo que me parece impresionante. Hablando de la proporción individual de los clientes de los productos que ya habían comprado, encontramos que la media es de alrededor de .49, la proporción mínima es del 0 y la máxima del 1, lo que implica que algunos clientes volvieron a comprar el 100% de los productos que compraron en un principio."
   ]
  },
  {
   "cell_type": "markdown",
   "id": "92d35137",
   "metadata": {
    "id": "92d35137"
   },
   "source": [
    "### [C5] ¿Cuáles son los 20 principales artículos que las personas ponen primero en sus carritos?"
   ]
  },
  {
   "cell_type": "code",
   "execution_count": 58,
   "id": "05072865-816f-41be-94a0-df6119f3073f",
   "metadata": {
    "execution": {
     "iopub.execute_input": "2025-04-17T03:41:44.021846Z",
     "iopub.status.busy": "2025-04-17T03:41:44.021496Z",
     "iopub.status.idle": "2025-04-17T03:41:44.033071Z",
     "shell.execute_reply": "2025-04-17T03:41:44.031953Z",
     "shell.execute_reply.started": "2025-04-17T03:41:44.021823Z"
    },
    "trusted": true
   },
   "outputs": [
    {
     "data": {
      "text/html": [
       "<div>\n",
       "<style scoped>\n",
       "    .dataframe tbody tr th:only-of-type {\n",
       "        vertical-align: middle;\n",
       "    }\n",
       "\n",
       "    .dataframe tbody tr th {\n",
       "        vertical-align: top;\n",
       "    }\n",
       "\n",
       "    .dataframe thead th {\n",
       "        text-align: right;\n",
       "    }\n",
       "</style>\n",
       "<table border=\"1\" class=\"dataframe\">\n",
       "  <thead>\n",
       "    <tr style=\"text-align: right;\">\n",
       "      <th></th>\n",
       "      <th>order_id</th>\n",
       "      <th>product_id</th>\n",
       "      <th>add_to_cart_order</th>\n",
       "      <th>reordered</th>\n",
       "    </tr>\n",
       "  </thead>\n",
       "  <tbody>\n",
       "    <tr>\n",
       "      <th>2043091</th>\n",
       "      <td>4</td>\n",
       "      <td>34862</td>\n",
       "      <td>8</td>\n",
       "      <td>1</td>\n",
       "    </tr>\n",
       "    <tr>\n",
       "      <th>1420535</th>\n",
       "      <td>4</td>\n",
       "      <td>10054</td>\n",
       "      <td>5</td>\n",
       "      <td>1</td>\n",
       "    </tr>\n",
       "    <tr>\n",
       "      <th>1299531</th>\n",
       "      <td>4</td>\n",
       "      <td>32645</td>\n",
       "      <td>12</td>\n",
       "      <td>1</td>\n",
       "    </tr>\n",
       "    <tr>\n",
       "      <th>311805</th>\n",
       "      <td>4</td>\n",
       "      <td>46842</td>\n",
       "      <td>1</td>\n",
       "      <td>0</td>\n",
       "    </tr>\n",
       "    <tr>\n",
       "      <th>4107072</th>\n",
       "      <td>4</td>\n",
       "      <td>40285</td>\n",
       "      <td>9</td>\n",
       "      <td>1</td>\n",
       "    </tr>\n",
       "    <tr>\n",
       "      <th>...</th>\n",
       "      <td>...</td>\n",
       "      <td>...</td>\n",
       "      <td>...</td>\n",
       "      <td>...</td>\n",
       "    </tr>\n",
       "    <tr>\n",
       "      <th>1505667</th>\n",
       "      <td>3421077</td>\n",
       "      <td>27966</td>\n",
       "      <td>1</td>\n",
       "      <td>0</td>\n",
       "    </tr>\n",
       "    <tr>\n",
       "      <th>4000108</th>\n",
       "      <td>3421077</td>\n",
       "      <td>27845</td>\n",
       "      <td>4</td>\n",
       "      <td>0</td>\n",
       "    </tr>\n",
       "    <tr>\n",
       "      <th>719972</th>\n",
       "      <td>3421077</td>\n",
       "      <td>26940</td>\n",
       "      <td>3</td>\n",
       "      <td>0</td>\n",
       "    </tr>\n",
       "    <tr>\n",
       "      <th>4417991</th>\n",
       "      <td>3421077</td>\n",
       "      <td>45007</td>\n",
       "      <td>2</td>\n",
       "      <td>0</td>\n",
       "    </tr>\n",
       "    <tr>\n",
       "      <th>4473670</th>\n",
       "      <td>3421079</td>\n",
       "      <td>30136</td>\n",
       "      <td>1</td>\n",
       "      <td>0</td>\n",
       "    </tr>\n",
       "  </tbody>\n",
       "</table>\n",
       "<p>4545007 rows × 4 columns</p>\n",
       "</div>"
      ],
      "text/plain": [
       "         order_id  product_id  add_to_cart_order  reordered\n",
       "2043091         4       34862                  8          1\n",
       "1420535         4       10054                  5          1\n",
       "1299531         4       32645                 12          1\n",
       "311805          4       46842                  1          0\n",
       "4107072         4       40285                  9          1\n",
       "...           ...         ...                ...        ...\n",
       "1505667   3421077       27966                  1          0\n",
       "4000108   3421077       27845                  4          0\n",
       "719972    3421077       26940                  3          0\n",
       "4417991   3421077       45007                  2          0\n",
       "4473670   3421079       30136                  1          0\n",
       "\n",
       "[4545007 rows x 4 columns]"
      ]
     },
     "execution_count": 58,
     "metadata": {},
     "output_type": "execute_result"
    }
   ],
   "source": [
    "order_products"
   ]
  },
  {
   "cell_type": "code",
   "execution_count": 59,
   "id": "0ae57274",
   "metadata": {
    "execution": {
     "iopub.execute_input": "2025-04-17T03:41:54.128445Z",
     "iopub.status.busy": "2025-04-17T03:41:54.128133Z",
     "iopub.status.idle": "2025-04-17T03:41:54.234694Z",
     "shell.execute_reply": "2025-04-17T03:41:54.233893Z",
     "shell.execute_reply.started": "2025-04-17T03:41:54.128423Z"
    },
    "id": "0ae57274",
    "scrolled": true,
    "trusted": true
   },
   "outputs": [
    {
     "data": {
      "text/html": [
       "<div>\n",
       "<style scoped>\n",
       "    .dataframe tbody tr th:only-of-type {\n",
       "        vertical-align: middle;\n",
       "    }\n",
       "\n",
       "    .dataframe tbody tr th {\n",
       "        vertical-align: top;\n",
       "    }\n",
       "\n",
       "    .dataframe thead th {\n",
       "        text-align: right;\n",
       "    }\n",
       "</style>\n",
       "<table border=\"1\" class=\"dataframe\">\n",
       "  <thead>\n",
       "    <tr style=\"text-align: right;\">\n",
       "      <th></th>\n",
       "      <th>product_id</th>\n",
       "      <th>product_count</th>\n",
       "      <th>product_name</th>\n",
       "    </tr>\n",
       "  </thead>\n",
       "  <tbody>\n",
       "    <tr>\n",
       "      <th>0</th>\n",
       "      <td>24852</td>\n",
       "      <td>55763</td>\n",
       "      <td>BANANA</td>\n",
       "    </tr>\n",
       "    <tr>\n",
       "      <th>1</th>\n",
       "      <td>13176</td>\n",
       "      <td>44450</td>\n",
       "      <td>BAG OF ORGANIC BANANAS</td>\n",
       "    </tr>\n",
       "    <tr>\n",
       "      <th>2</th>\n",
       "      <td>21137</td>\n",
       "      <td>28639</td>\n",
       "      <td>ORGANIC STRAWBERRIES</td>\n",
       "    </tr>\n",
       "    <tr>\n",
       "      <th>3</th>\n",
       "      <td>21903</td>\n",
       "      <td>26233</td>\n",
       "      <td>ORGANIC BABY SPINACH</td>\n",
       "    </tr>\n",
       "    <tr>\n",
       "      <th>4</th>\n",
       "      <td>47209</td>\n",
       "      <td>23629</td>\n",
       "      <td>ORGANIC HASS AVOCADO</td>\n",
       "    </tr>\n",
       "    <tr>\n",
       "      <th>5</th>\n",
       "      <td>47766</td>\n",
       "      <td>18743</td>\n",
       "      <td>ORGANIC AVOCADO</td>\n",
       "    </tr>\n",
       "    <tr>\n",
       "      <th>6</th>\n",
       "      <td>27845</td>\n",
       "      <td>16251</td>\n",
       "      <td>ORGANIC WHOLE MILK</td>\n",
       "    </tr>\n",
       "    <tr>\n",
       "      <th>7</th>\n",
       "      <td>47626</td>\n",
       "      <td>15044</td>\n",
       "      <td>LARGE LEMON</td>\n",
       "    </tr>\n",
       "    <tr>\n",
       "      <th>8</th>\n",
       "      <td>27966</td>\n",
       "      <td>14748</td>\n",
       "      <td>ORGANIC RASPBERRIES</td>\n",
       "    </tr>\n",
       "    <tr>\n",
       "      <th>9</th>\n",
       "      <td>16797</td>\n",
       "      <td>13945</td>\n",
       "      <td>STRAWBERRIES</td>\n",
       "    </tr>\n",
       "    <tr>\n",
       "      <th>10</th>\n",
       "      <td>26209</td>\n",
       "      <td>13327</td>\n",
       "      <td>LIMES</td>\n",
       "    </tr>\n",
       "    <tr>\n",
       "      <th>11</th>\n",
       "      <td>22935</td>\n",
       "      <td>11145</td>\n",
       "      <td>ORGANIC YELLOW ONION</td>\n",
       "    </tr>\n",
       "    <tr>\n",
       "      <th>12</th>\n",
       "      <td>24964</td>\n",
       "      <td>10411</td>\n",
       "      <td>ORGANIC GARLIC</td>\n",
       "    </tr>\n",
       "    <tr>\n",
       "      <th>13</th>\n",
       "      <td>45007</td>\n",
       "      <td>10076</td>\n",
       "      <td>ORGANIC ZUCCHINI</td>\n",
       "    </tr>\n",
       "    <tr>\n",
       "      <th>14</th>\n",
       "      <td>49683</td>\n",
       "      <td>9538</td>\n",
       "      <td>CUCUMBER KIRBY</td>\n",
       "    </tr>\n",
       "    <tr>\n",
       "      <th>15</th>\n",
       "      <td>28204</td>\n",
       "      <td>8989</td>\n",
       "      <td>ORGANIC FUJI APPLE</td>\n",
       "    </tr>\n",
       "    <tr>\n",
       "      <th>16</th>\n",
       "      <td>8277</td>\n",
       "      <td>8836</td>\n",
       "      <td>APPLE HONEYCRISP ORGANIC</td>\n",
       "    </tr>\n",
       "    <tr>\n",
       "      <th>17</th>\n",
       "      <td>39275</td>\n",
       "      <td>8799</td>\n",
       "      <td>ORGANIC BLUEBERRIES</td>\n",
       "    </tr>\n",
       "    <tr>\n",
       "      <th>18</th>\n",
       "      <td>5876</td>\n",
       "      <td>8412</td>\n",
       "      <td>ORGANIC LEMON</td>\n",
       "    </tr>\n",
       "    <tr>\n",
       "      <th>19</th>\n",
       "      <td>49235</td>\n",
       "      <td>8389</td>\n",
       "      <td>ORGANIC HALF &amp; HALF</td>\n",
       "    </tr>\n",
       "  </tbody>\n",
       "</table>\n",
       "</div>"
      ],
      "text/plain": [
       "    product_id  product_count              product_name\n",
       "0        24852          55763                    BANANA\n",
       "1        13176          44450    BAG OF ORGANIC BANANAS\n",
       "2        21137          28639      ORGANIC STRAWBERRIES\n",
       "3        21903          26233      ORGANIC BABY SPINACH\n",
       "4        47209          23629      ORGANIC HASS AVOCADO\n",
       "5        47766          18743           ORGANIC AVOCADO\n",
       "6        27845          16251        ORGANIC WHOLE MILK\n",
       "7        47626          15044               LARGE LEMON\n",
       "8        27966          14748       ORGANIC RASPBERRIES\n",
       "9        16797          13945              STRAWBERRIES\n",
       "10       26209          13327                     LIMES\n",
       "11       22935          11145      ORGANIC YELLOW ONION\n",
       "12       24964          10411            ORGANIC GARLIC\n",
       "13       45007          10076          ORGANIC ZUCCHINI\n",
       "14       49683           9538            CUCUMBER KIRBY\n",
       "15       28204           8989        ORGANIC FUJI APPLE\n",
       "16        8277           8836  APPLE HONEYCRISP ORGANIC\n",
       "17       39275           8799       ORGANIC BLUEBERRIES\n",
       "18        5876           8412             ORGANIC LEMON\n",
       "19       49235           8389       ORGANIC HALF & HALF"
      ]
     },
     "execution_count": 59,
     "metadata": {},
     "output_type": "execute_result"
    }
   ],
   "source": [
    "#Primero filtramos los productos que fueron agregados primero al carrito\n",
    "first_added_products = order_products.query('add_to_cart_order == 1')\n",
    "#Ahora obtenemos el conteo para los valores de esos productos\n",
    "first_added_products_count = first_added_products.groupby('product_id')['add_to_cart_order'].count()\n",
    "#Ahora ordenamos de mayor a menor para mostrar los productos que más se ponen primero en el carrito.\n",
    "top_20_first_added_products = first_added_products_count.sort_values(ascending=False).head(20)\n",
    "#Ahora convertimos la serie a DataFrame para poder unirlo con Merge al otro y así poder mostrar el nombre de los productos de igual manera.\n",
    "top_20_first_added_df = top_20.reset_index()\n",
    "top_20_first_added_df.columns = ['product_id', 'product_count']\n",
    "#Acontinuación unimos las columnas de ambos DataFrames para mostrar los 20 productos principales que las personas ponen primero en sus carritos, mediante el método Merge de Pandas\n",
    "top_20_first_added_merged = pd.merge(top_20_first_added_df, products[['product_id', 'product_name']], on='product_id', how='left')\n",
    "\n",
    "top_20_first_added_merged\n",
    "\n"
   ]
  },
  {
   "cell_type": "code",
   "execution_count": 60,
   "id": "forty-netherlands",
   "metadata": {
    "execution": {
     "iopub.execute_input": "2025-04-17T03:39:39.948069Z",
     "iopub.status.busy": "2025-04-17T03:39:39.947746Z",
     "iopub.status.idle": "2025-04-17T03:39:39.957557Z",
     "shell.execute_reply": "2025-04-17T03:39:39.956802Z",
     "shell.execute_reply.started": "2025-04-17T03:39:39.948047Z"
    },
    "id": "forty-netherlands",
    "scrolled": true,
    "trusted": true
   },
   "outputs": [
    {
     "data": {
      "text/html": [
       "<div>\n",
       "<style scoped>\n",
       "    .dataframe tbody tr th:only-of-type {\n",
       "        vertical-align: middle;\n",
       "    }\n",
       "\n",
       "    .dataframe tbody tr th {\n",
       "        vertical-align: top;\n",
       "    }\n",
       "\n",
       "    .dataframe thead th {\n",
       "        text-align: right;\n",
       "    }\n",
       "</style>\n",
       "<table border=\"1\" class=\"dataframe\">\n",
       "  <thead>\n",
       "    <tr style=\"text-align: right;\">\n",
       "      <th></th>\n",
       "      <th>product_id</th>\n",
       "      <th>reorder_count</th>\n",
       "      <th>product_name</th>\n",
       "    </tr>\n",
       "  </thead>\n",
       "  <tbody>\n",
       "    <tr>\n",
       "      <th>0</th>\n",
       "      <td>24852</td>\n",
       "      <td>55763</td>\n",
       "      <td>BANANA</td>\n",
       "    </tr>\n",
       "    <tr>\n",
       "      <th>1</th>\n",
       "      <td>13176</td>\n",
       "      <td>44450</td>\n",
       "      <td>BAG OF ORGANIC BANANAS</td>\n",
       "    </tr>\n",
       "    <tr>\n",
       "      <th>2</th>\n",
       "      <td>21137</td>\n",
       "      <td>28639</td>\n",
       "      <td>ORGANIC STRAWBERRIES</td>\n",
       "    </tr>\n",
       "    <tr>\n",
       "      <th>3</th>\n",
       "      <td>21903</td>\n",
       "      <td>26233</td>\n",
       "      <td>ORGANIC BABY SPINACH</td>\n",
       "    </tr>\n",
       "    <tr>\n",
       "      <th>4</th>\n",
       "      <td>47209</td>\n",
       "      <td>23629</td>\n",
       "      <td>ORGANIC HASS AVOCADO</td>\n",
       "    </tr>\n",
       "    <tr>\n",
       "      <th>5</th>\n",
       "      <td>47766</td>\n",
       "      <td>18743</td>\n",
       "      <td>ORGANIC AVOCADO</td>\n",
       "    </tr>\n",
       "    <tr>\n",
       "      <th>6</th>\n",
       "      <td>27845</td>\n",
       "      <td>16251</td>\n",
       "      <td>ORGANIC WHOLE MILK</td>\n",
       "    </tr>\n",
       "    <tr>\n",
       "      <th>7</th>\n",
       "      <td>47626</td>\n",
       "      <td>15044</td>\n",
       "      <td>LARGE LEMON</td>\n",
       "    </tr>\n",
       "    <tr>\n",
       "      <th>8</th>\n",
       "      <td>27966</td>\n",
       "      <td>14748</td>\n",
       "      <td>ORGANIC RASPBERRIES</td>\n",
       "    </tr>\n",
       "    <tr>\n",
       "      <th>9</th>\n",
       "      <td>16797</td>\n",
       "      <td>13945</td>\n",
       "      <td>STRAWBERRIES</td>\n",
       "    </tr>\n",
       "    <tr>\n",
       "      <th>10</th>\n",
       "      <td>26209</td>\n",
       "      <td>13327</td>\n",
       "      <td>LIMES</td>\n",
       "    </tr>\n",
       "    <tr>\n",
       "      <th>11</th>\n",
       "      <td>22935</td>\n",
       "      <td>11145</td>\n",
       "      <td>ORGANIC YELLOW ONION</td>\n",
       "    </tr>\n",
       "    <tr>\n",
       "      <th>12</th>\n",
       "      <td>24964</td>\n",
       "      <td>10411</td>\n",
       "      <td>ORGANIC GARLIC</td>\n",
       "    </tr>\n",
       "    <tr>\n",
       "      <th>13</th>\n",
       "      <td>45007</td>\n",
       "      <td>10076</td>\n",
       "      <td>ORGANIC ZUCCHINI</td>\n",
       "    </tr>\n",
       "    <tr>\n",
       "      <th>14</th>\n",
       "      <td>49683</td>\n",
       "      <td>9538</td>\n",
       "      <td>CUCUMBER KIRBY</td>\n",
       "    </tr>\n",
       "    <tr>\n",
       "      <th>15</th>\n",
       "      <td>28204</td>\n",
       "      <td>8989</td>\n",
       "      <td>ORGANIC FUJI APPLE</td>\n",
       "    </tr>\n",
       "    <tr>\n",
       "      <th>16</th>\n",
       "      <td>8277</td>\n",
       "      <td>8836</td>\n",
       "      <td>APPLE HONEYCRISP ORGANIC</td>\n",
       "    </tr>\n",
       "    <tr>\n",
       "      <th>17</th>\n",
       "      <td>39275</td>\n",
       "      <td>8799</td>\n",
       "      <td>ORGANIC BLUEBERRIES</td>\n",
       "    </tr>\n",
       "    <tr>\n",
       "      <th>18</th>\n",
       "      <td>5876</td>\n",
       "      <td>8412</td>\n",
       "      <td>ORGANIC LEMON</td>\n",
       "    </tr>\n",
       "    <tr>\n",
       "      <th>19</th>\n",
       "      <td>49235</td>\n",
       "      <td>8389</td>\n",
       "      <td>ORGANIC HALF &amp; HALF</td>\n",
       "    </tr>\n",
       "  </tbody>\n",
       "</table>\n",
       "</div>"
      ],
      "text/plain": [
       "    product_id  reorder_count              product_name\n",
       "0        24852          55763                    BANANA\n",
       "1        13176          44450    BAG OF ORGANIC BANANAS\n",
       "2        21137          28639      ORGANIC STRAWBERRIES\n",
       "3        21903          26233      ORGANIC BABY SPINACH\n",
       "4        47209          23629      ORGANIC HASS AVOCADO\n",
       "5        47766          18743           ORGANIC AVOCADO\n",
       "6        27845          16251        ORGANIC WHOLE MILK\n",
       "7        47626          15044               LARGE LEMON\n",
       "8        27966          14748       ORGANIC RASPBERRIES\n",
       "9        16797          13945              STRAWBERRIES\n",
       "10       26209          13327                     LIMES\n",
       "11       22935          11145      ORGANIC YELLOW ONION\n",
       "12       24964          10411            ORGANIC GARLIC\n",
       "13       45007          10076          ORGANIC ZUCCHINI\n",
       "14       49683           9538            CUCUMBER KIRBY\n",
       "15       28204           8989        ORGANIC FUJI APPLE\n",
       "16        8277           8836  APPLE HONEYCRISP ORGANIC\n",
       "17       39275           8799       ORGANIC BLUEBERRIES\n",
       "18        5876           8412             ORGANIC LEMON\n",
       "19       49235           8389       ORGANIC HALF & HALF"
      ]
     },
     "execution_count": 60,
     "metadata": {},
     "output_type": "execute_result"
    }
   ],
   "source": [
    "top_20_merged"
   ]
  },
  {
   "cell_type": "code",
   "execution_count": 61,
   "id": "08e41ec2",
   "metadata": {
    "execution": {
     "iopub.execute_input": "2025-04-17T04:00:06.098075Z",
     "iopub.status.busy": "2025-04-17T04:00:06.096864Z",
     "iopub.status.idle": "2025-04-17T04:00:06.107054Z",
     "shell.execute_reply": "2025-04-17T04:00:06.106298Z",
     "shell.execute_reply.started": "2025-04-17T04:00:06.098031Z"
    },
    "id": "08e41ec2",
    "trusted": true
   },
   "outputs": [
    {
     "data": {
      "text/html": [
       "<div>\n",
       "<style scoped>\n",
       "    .dataframe tbody tr th:only-of-type {\n",
       "        vertical-align: middle;\n",
       "    }\n",
       "\n",
       "    .dataframe tbody tr th {\n",
       "        vertical-align: top;\n",
       "    }\n",
       "\n",
       "    .dataframe thead th {\n",
       "        text-align: right;\n",
       "    }\n",
       "</style>\n",
       "<table border=\"1\" class=\"dataframe\">\n",
       "  <thead>\n",
       "    <tr style=\"text-align: right;\">\n",
       "      <th></th>\n",
       "      <th>product_id</th>\n",
       "      <th>number_of_times_purchased</th>\n",
       "      <th>product_name</th>\n",
       "    </tr>\n",
       "  </thead>\n",
       "  <tbody>\n",
       "    <tr>\n",
       "      <th>0</th>\n",
       "      <td>24852</td>\n",
       "      <td>66050</td>\n",
       "      <td>BANANA</td>\n",
       "    </tr>\n",
       "    <tr>\n",
       "      <th>1</th>\n",
       "      <td>13176</td>\n",
       "      <td>53297</td>\n",
       "      <td>BAG OF ORGANIC BANANAS</td>\n",
       "    </tr>\n",
       "    <tr>\n",
       "      <th>2</th>\n",
       "      <td>21137</td>\n",
       "      <td>37039</td>\n",
       "      <td>ORGANIC STRAWBERRIES</td>\n",
       "    </tr>\n",
       "    <tr>\n",
       "      <th>3</th>\n",
       "      <td>21903</td>\n",
       "      <td>33971</td>\n",
       "      <td>ORGANIC BABY SPINACH</td>\n",
       "    </tr>\n",
       "    <tr>\n",
       "      <th>4</th>\n",
       "      <td>47209</td>\n",
       "      <td>29773</td>\n",
       "      <td>ORGANIC HASS AVOCADO</td>\n",
       "    </tr>\n",
       "    <tr>\n",
       "      <th>5</th>\n",
       "      <td>47766</td>\n",
       "      <td>24689</td>\n",
       "      <td>ORGANIC AVOCADO</td>\n",
       "    </tr>\n",
       "    <tr>\n",
       "      <th>6</th>\n",
       "      <td>47626</td>\n",
       "      <td>21495</td>\n",
       "      <td>LARGE LEMON</td>\n",
       "    </tr>\n",
       "    <tr>\n",
       "      <th>7</th>\n",
       "      <td>16797</td>\n",
       "      <td>20018</td>\n",
       "      <td>STRAWBERRIES</td>\n",
       "    </tr>\n",
       "    <tr>\n",
       "      <th>8</th>\n",
       "      <td>26209</td>\n",
       "      <td>19690</td>\n",
       "      <td>LIMES</td>\n",
       "    </tr>\n",
       "    <tr>\n",
       "      <th>9</th>\n",
       "      <td>27845</td>\n",
       "      <td>19600</td>\n",
       "      <td>ORGANIC WHOLE MILK</td>\n",
       "    </tr>\n",
       "    <tr>\n",
       "      <th>10</th>\n",
       "      <td>27966</td>\n",
       "      <td>19197</td>\n",
       "      <td>ORGANIC RASPBERRIES</td>\n",
       "    </tr>\n",
       "    <tr>\n",
       "      <th>11</th>\n",
       "      <td>22935</td>\n",
       "      <td>15898</td>\n",
       "      <td>ORGANIC YELLOW ONION</td>\n",
       "    </tr>\n",
       "    <tr>\n",
       "      <th>12</th>\n",
       "      <td>24964</td>\n",
       "      <td>15292</td>\n",
       "      <td>ORGANIC GARLIC</td>\n",
       "    </tr>\n",
       "    <tr>\n",
       "      <th>13</th>\n",
       "      <td>45007</td>\n",
       "      <td>14584</td>\n",
       "      <td>ORGANIC ZUCCHINI</td>\n",
       "    </tr>\n",
       "    <tr>\n",
       "      <th>14</th>\n",
       "      <td>39275</td>\n",
       "      <td>13879</td>\n",
       "      <td>ORGANIC BLUEBERRIES</td>\n",
       "    </tr>\n",
       "    <tr>\n",
       "      <th>15</th>\n",
       "      <td>49683</td>\n",
       "      <td>13675</td>\n",
       "      <td>CUCUMBER KIRBY</td>\n",
       "    </tr>\n",
       "    <tr>\n",
       "      <th>16</th>\n",
       "      <td>28204</td>\n",
       "      <td>12544</td>\n",
       "      <td>ORGANIC FUJI APPLE</td>\n",
       "    </tr>\n",
       "    <tr>\n",
       "      <th>17</th>\n",
       "      <td>5876</td>\n",
       "      <td>12232</td>\n",
       "      <td>ORGANIC LEMON</td>\n",
       "    </tr>\n",
       "    <tr>\n",
       "      <th>18</th>\n",
       "      <td>8277</td>\n",
       "      <td>11993</td>\n",
       "      <td>APPLE HONEYCRISP ORGANIC</td>\n",
       "    </tr>\n",
       "    <tr>\n",
       "      <th>19</th>\n",
       "      <td>40706</td>\n",
       "      <td>11781</td>\n",
       "      <td>ORGANIC GRAPE TOMATOES</td>\n",
       "    </tr>\n",
       "  </tbody>\n",
       "</table>\n",
       "</div>"
      ],
      "text/plain": [
       "    product_id  number_of_times_purchased              product_name\n",
       "0        24852                      66050                    BANANA\n",
       "1        13176                      53297    BAG OF ORGANIC BANANAS\n",
       "2        21137                      37039      ORGANIC STRAWBERRIES\n",
       "3        21903                      33971      ORGANIC BABY SPINACH\n",
       "4        47209                      29773      ORGANIC HASS AVOCADO\n",
       "5        47766                      24689           ORGANIC AVOCADO\n",
       "6        47626                      21495               LARGE LEMON\n",
       "7        16797                      20018              STRAWBERRIES\n",
       "8        26209                      19690                     LIMES\n",
       "9        27845                      19600        ORGANIC WHOLE MILK\n",
       "10       27966                      19197       ORGANIC RASPBERRIES\n",
       "11       22935                      15898      ORGANIC YELLOW ONION\n",
       "12       24964                      15292            ORGANIC GARLIC\n",
       "13       45007                      14584          ORGANIC ZUCCHINI\n",
       "14       39275                      13879       ORGANIC BLUEBERRIES\n",
       "15       49683                      13675            CUCUMBER KIRBY\n",
       "16       28204                      12544        ORGANIC FUJI APPLE\n",
       "17        5876                      12232             ORGANIC LEMON\n",
       "18        8277                      11993  APPLE HONEYCRISP ORGANIC\n",
       "19       40706                      11781    ORGANIC GRAPE TOMATOES"
      ]
     },
     "execution_count": 61,
     "metadata": {},
     "output_type": "execute_result"
    }
   ],
   "source": [
    "top_20_products_merged"
   ]
  },
  {
   "cell_type": "markdown",
   "id": "28ce9872",
   "metadata": {
    "id": "28ce9872"
   },
   "source": [
    "Escribe aquí tus conclusiones\n",
    "\n",
    "Algo que descubrí y que me parece impresionante es que la lista de los 20 productos que se añaden primero en los carritos es exactamente la misma que la lista de los 20 productos que se reordenan más. Podemos ver que nuevamente el producto \"Banana\" se posiciona como el más popular en otra categoría. En el DataFrame anterior mostramos estos 20 productos, cabe recalcar que estos son los productos que la gente pone primero en sus carritos, esto me hace pensar que al mismo tiempo de cierta forma, son los productos que la gente esta más interesada en comprar. También note que la lista de los 20 productos más comprados es muy parecida a estas dos ultimas, con algunos productos como ligeras diferencias."
   ]
  },
  {
   "cell_type": "markdown",
   "id": "uITbFCEoDosC",
   "metadata": {
    "id": "uITbFCEoDosC"
   },
   "source": [
    "### Conclusion general del proyecto:"
   ]
  },
  {
   "cell_type": "markdown",
   "id": "037e1f5f-f2cc-4aca-8d37-52641121e28d",
   "metadata": {
    "id": "Nk-4GS7mDwqY"
   },
   "source": [
    "En este proyecto pusé en practica la mayoría de habilidades y conocimientos que he adquirido hasta el momento en el bootcamp de análisis de datos, no voy a mentir, fue un gran desafío, pero como todo, tiene su recompensa y valió la pena. A continuación presentaré una breve recapitulación de lo que hicimos en este proyecto.\n",
    "\n",
    "* Procesamos los  5 datasets crudos, abarcamos desde cargar los archivos hasta la limpieza y estandarización de la calidad de los datos\n",
    "* Analizamos distintas correlaciones de variables, como la hora del día y el número de ordenes, el día de la semana y el número de ordenes, etc.\n",
    "* Creamos distintos gráficos para seguir estudiando correlaciones, como los días de la semana y las compras, la distribución de pedidos por cliente, etc.\n",
    "* Creamos varias listas de los 20 productos más populares en distintas categorías, incluyendo los más vendidos, los más reordenados y los primeros en ser agregados al carrito.\n",
    "* También estudiamos distintas proporciones, incluyendo la proporción de reorden de cada producto y la proporción de reorden de cada cliente.\n",
    "\n",
    "Al final de este proyecto y después de el análisis que realizamos a los distintos conjuntos de datos presentes, podemos concluir lo siguiente:\n",
    "* Las deficiencias en la calidad de los datos son por razones específicas, encontramos patrones casi todos los casos, valores duplicados, ausentes, etc. Esto puede deberse a una deficiencia en el registro de información o bien a errores aleatorios.\n",
    "* La hora del día en la que más pedidos se realizan es a las 10:00, el día de la semana en el que más pedidos se realizan es el domingo. El domingo es el día libre de muchas personas que trabajan tiempo completo, por lo que hace sentido que en este día hagan sus compras para el resto de la semana.\n",
    "* La mayoría de personas dejan pasar 7 días y vuelven a realizar un pedido.\n",
    "* Una gran parte de los clientes compran de 1 a 6 artículos por pedido, el número de articulos que más se compra por pedido es 4(artículos).\n",
    "* En cuanto a los productos más populares, encontramos que en las 3 categorías estos casi siempre son los mismos 20, con algunas diferencias, en las 3 categorías los 3 productos más populares son los siguientes: Banana, Bag of organic bananas, Organic Strawberries.\n",
    "* Por ultimo, la distribución de articulos pedidos por orden de compra es similar a la distribución de articulos comprados por usuario, es decir el número oscila de 1 a 6 articulos comprados aproximadamente y disminuye el número de personas y ordenes generadas mientras el número de articulos aumenta.\n",
    "\n",
    "Considero que pudimos haber utilizado el coeficiente de correlación de Pearson para comprobar númericamente la correlación entre las variables que estudiamos. Creo que en algunos casos la correlación hubiera sido fuerte."
   ]
  },
  {
   "cell_type": "code",
   "execution_count": null,
   "id": "a6930a09-539a-4bc8-b6fc-3b1dbd3c0759",
   "metadata": {
    "trusted": true
   },
   "outputs": [],
   "source": []
  }
 ],
 "metadata": {
  "colab": {
   "provenance": []
  },
  "kaggle": {
   "accelerator": "none",
   "dataSources": [
    {
     "datasetId": 7099359,
     "sourceId": 11346202,
     "sourceType": "datasetVersion"
    }
   ],
   "dockerImageVersionId": 31012,
   "isGpuEnabled": false,
   "isInternetEnabled": true,
   "language": "python",
   "sourceType": "notebook"
  },
  "kernelspec": {
   "display_name": "base",
   "language": "python",
   "name": "python3"
  },
  "language_info": {
   "codemirror_mode": {
    "name": "ipython",
    "version": 3
   },
   "file_extension": ".py",
   "mimetype": "text/x-python",
   "name": "python",
   "nbconvert_exporter": "python",
   "pygments_lexer": "ipython3",
   "version": "3.12.7"
  },
  "toc": {
   "base_numbering": 1,
   "nav_menu": {},
   "number_sections": true,
   "sideBar": true,
   "skip_h1_title": true,
   "title_cell": "Table of Contents",
   "title_sidebar": "Contents",
   "toc_cell": false,
   "toc_position": {},
   "toc_section_display": true,
   "toc_window_display": false
  }
 },
 "nbformat": 4,
 "nbformat_minor": 5
}
